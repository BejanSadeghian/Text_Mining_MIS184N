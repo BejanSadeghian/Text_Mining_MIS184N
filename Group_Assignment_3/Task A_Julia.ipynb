{
 "cells": [
  {
   "cell_type": "code",
   "execution_count": 83,
   "metadata": {
    "collapsed": false
   },
   "outputs": [
    {
     "name": "stdout",
     "output_type": "stream",
     "text": [
      "Populating the interactive namespace from numpy and matplotlib\n"
     ]
    }
   ],
   "source": [
    "import networkx as nx\n",
    "import pandas as pd\n",
    "from pandas import DataFrame\n",
    "from pandas import Series\n",
    "from collections import OrderedDict\n",
    "import matplotlib.pyplot as plt\n",
    "%pylab inline\n",
    "import numpy as np\n",
    "import math"
   ]
  },
  {
   "cell_type": "markdown",
   "metadata": {},
   "source": [
    "# Task A"
   ]
  },
  {
   "cell_type": "code",
   "execution_count": 2,
   "metadata": {
    "collapsed": false
   },
   "outputs": [],
   "source": [
    "sentiment = pd.read_csv(\"Assignment 3 Sentiment Scores.csv\")\n",
    "#sentiment = sentiment.fillna(0)"
   ]
  },
  {
   "cell_type": "code",
   "execution_count": 3,
   "metadata": {
    "collapsed": false
   },
   "outputs": [
    {
     "data": {
      "text/html": [
       "<div>\n",
       "<table border=\"1\" class=\"dataframe\">\n",
       "  <thead>\n",
       "    <tr style=\"text-align: right;\">\n",
       "      <th></th>\n",
       "      <th>ES</th>\n",
       "      <th>LS</th>\n",
       "      <th>RX</th>\n",
       "      <th>A8</th>\n",
       "      <th>A6</th>\n",
       "      <th>3series</th>\n",
       "      <th>5series</th>\n",
       "      <th>7series</th>\n",
       "      <th>XJ</th>\n",
       "      <th>Sclass</th>\n",
       "    </tr>\n",
       "  </thead>\n",
       "  <tbody>\n",
       "    <tr>\n",
       "      <th>0</th>\n",
       "      <td>NaN</td>\n",
       "      <td>NaN</td>\n",
       "      <td>4</td>\n",
       "      <td>3</td>\n",
       "      <td>NaN</td>\n",
       "      <td>NaN</td>\n",
       "      <td>NaN</td>\n",
       "      <td>5</td>\n",
       "      <td>2</td>\n",
       "      <td>1</td>\n",
       "    </tr>\n",
       "    <tr>\n",
       "      <th>1</th>\n",
       "      <td>NaN</td>\n",
       "      <td>NaN</td>\n",
       "      <td>3</td>\n",
       "      <td>2</td>\n",
       "      <td>2</td>\n",
       "      <td>2</td>\n",
       "      <td>2</td>\n",
       "      <td>2</td>\n",
       "      <td>NaN</td>\n",
       "      <td>NaN</td>\n",
       "    </tr>\n",
       "  </tbody>\n",
       "</table>\n",
       "</div>"
      ],
      "text/plain": [
       "   ES  LS  RX  A8  A6  3series  5series  7series  XJ  Sclass\n",
       "0 NaN NaN   4   3 NaN      NaN      NaN        5   2       1\n",
       "1 NaN NaN   3   2   2        2        2        2 NaN     NaN"
      ]
     },
     "execution_count": 3,
     "metadata": {},
     "output_type": "execute_result"
    }
   ],
   "source": [
    "sentiment.head(2)"
   ]
  },
  {
   "cell_type": "code",
   "execution_count": 4,
   "metadata": {
    "collapsed": false
   },
   "outputs": [],
   "source": [
    "models = list(sentiment.columns)"
   ]
  },
  {
   "cell_type": "code",
   "execution_count": 5,
   "metadata": {
    "collapsed": false
   },
   "outputs": [],
   "source": [
    "for col1 in xrange(0,10):\n",
    "    for col2 in xrange(col1,10):\n",
    "        if col1 != col2:\n",
    "            sentiment[models[col1] + '-' + models[col2]] = sentiment.ix[:,col1] - sentiment.ix[:,col2]"
   ]
  },
  {
   "cell_type": "code",
   "execution_count": 22,
   "metadata": {
    "collapsed": false
   },
   "outputs": [],
   "source": [
    "comparisons = sentiment.ix[:,10:]"
   ]
  },
  {
   "cell_type": "code",
   "execution_count": 10,
   "metadata": {
    "collapsed": false
   },
   "outputs": [],
   "source": [
    "edges = OrderedDict()\n",
    "for col in comparisons:\n",
    "    model_col = comparisons[col]\n",
    "    edges[col] = model_col[model_col > 0].mean(), abs(model_col[model_col < 0].mean())"
   ]
  },
  {
   "cell_type": "code",
   "execution_count": 106,
   "metadata": {
    "collapsed": false
   },
   "outputs": [],
   "source": [
    "# Trying to remove NaN\n",
    "\n",
    "#for index, c in enumerate(edges.items()):\n",
    "#    for i in xrange(0,2):\n",
    "#        if edges.items()[index][1][i] == float('nan'):\n",
    "#             edges.items()[index][1][i] = 0"
   ]
  },
  {
   "cell_type": "code",
   "execution_count": 117,
   "metadata": {
    "collapsed": false
   },
   "outputs": [
    {
     "data": {
      "text/plain": [
       "OrderedDict([('ES-LS', (1.1666666666666667, 2.0)), ('ES-RX', (1.6666666666666667, 2.0)), ('ES-A8', (3.4, 3.0)), ('ES-A6', (6.0, 1.6666666666666667)), ('ES-3series', (3.25, 6.0)), ('ES-5series', (4.0, 5.0)), ('ES-7series', (3.6, 2.8)), ('ES-XJ', (1.0, 1.0)), ('ES-Sclass', (3.2857142857142856, 2.6153846153846154)), ('LS-RX', (3.4, 1.1428571428571428)), ('LS-A8', (2.857142857142857, 2.8378378378378377)), ('LS-A6', (3.3333333333333335, 1.2857142857142858)), ('LS-3series', (2.8, 4.0)), ('LS-5series', (2.7, 3.1)), ('LS-7series', (2.642857142857143, 2.75)), ('LS-XJ', (2.75, 2.888888888888889)), ('LS-Sclass', (2.554054054054054, 2.6774193548387095)), ('RX-A8', (2.2, 1.0)), ('RX-A6', (3.6666666666666665, nan)), ('RX-3series', (4.0, 4.0)), ('RX-5series', (3.6, nan)), ('RX-7series', (3.75, 1.0)), ('RX-XJ', (2.0, nan)), ('RX-Sclass', (3.6363636363636362, 2.5)), ('A8-A6', (1.375, 3.1666666666666665)), ('A8-3series', (3.25, 5.0)), ('A8-5series', (3.3333333333333335, 5.0)), ('A8-7series', (2.1818181818181817, 3.0)), ('A8-XJ', (2.0, 2.142857142857143)), ('A8-Sclass', (2.5, 2.0625)), ('A6-3series', (3.0, 5.0)), ('A6-5series', (3.0, 5.0)), ('A6-7series', (nan, 5.0)), ('A6-XJ', (1.0, nan)), ('A6-Sclass', (2.0, 2.3333333333333335)), ('3series-5series', (nan, nan)), ('3series-7series', (5.0, 2.0)), ('3series-XJ', (nan, 3.0)), ('3series-Sclass', (4.333333333333333, 3.3333333333333335)), ('5series-7series', (2.3333333333333335, 1.0)), ('5series-XJ', (nan, 2.0)), ('5series-Sclass', (3.0, 2.0)), ('7series-XJ', (3.6666666666666665, 3.1666666666666665)), ('7series-Sclass', (3.111111111111111, 2.4375)), ('XJ-Sclass', (1.6666666666666667, 2.2857142857142856))])"
      ]
     },
     "execution_count": 117,
     "metadata": {},
     "output_type": "execute_result"
    }
   ],
   "source": [
    "edges"
   ]
  },
  {
   "cell_type": "code",
   "execution_count": 111,
   "metadata": {
    "collapsed": false
   },
   "outputs": [],
   "source": [
    "test = nx.DiGraph()\n",
    "test.add_weighted_edges_from([('a','b',nan)])"
   ]
  },
  {
   "cell_type": "code",
   "execution_count": 13,
   "metadata": {
    "collapsed": true
   },
   "outputs": [],
   "source": [
    "PCN = nx.DiGraph()"
   ]
  },
  {
   "cell_type": "code",
   "execution_count": 23,
   "metadata": {
    "collapsed": false
   },
   "outputs": [],
   "source": [
    "for col1 in xrange(0,10):\n",
    "    for col2 in xrange(col1,10):\n",
    "        if col1 != col2:\n",
    "            model1 = models[col1]\n",
    "            model2 = models[col2]\n",
    "            PCN.add_weighted_edges_from([(model1, model2, edges[model1 + '-' + model2][0]), (model2, model1, edges[model1 + '-' + model2][1])])"
   ]
  },
  {
   "cell_type": "code",
   "execution_count": 15,
   "metadata": {
    "collapsed": false
   },
   "outputs": [
    {
     "data": {
      "text/plain": [
       "{'3series': <matplotlib.text.Text at 0x170da048>,\n",
       " '5series': <matplotlib.text.Text at 0x170da7b8>,\n",
       " '7series': <matplotlib.text.Text at 0x1707cd30>,\n",
       " 'A6': <matplotlib.text.Text at 0x1708b898>,\n",
       " 'A8': <matplotlib.text.Text at 0x1708bc50>,\n",
       " 'ES': <matplotlib.text.Text at 0x170da400>,\n",
       " 'LS': <matplotlib.text.Text at 0x1708b4e0>,\n",
       " 'RX': <matplotlib.text.Text at 0x1708b128>,\n",
       " 'Sclass': <matplotlib.text.Text at 0x1707c978>,\n",
       " 'XJ': <matplotlib.text.Text at 0x1707c518>}"
      ]
     },
     "execution_count": 15,
     "metadata": {},
     "output_type": "execute_result"
    },
    {
     "data": {
      "image/png": "[encoded data removed]",
      "text/plain": [
       "<matplotlib.figure.Figure at 0x1d4eb00>"
      ]
     },
     "metadata": {},
     "output_type": "display_data"
    }
   ],
   "source": [
    "pos = nx.spring_layout(PCN)\n",
    "nx.draw(PCN,pos,node_size=500)\n",
    "nx.draw_networkx_labels(PCN,pos)"
   ]
  },
  {
   "cell_type": "markdown",
   "metadata": {},
   "source": [
    "# Task B"
   ]
  },
  {
   "cell_type": "code",
   "execution_count": 16,
   "metadata": {
    "collapsed": false
   },
   "outputs": [],
   "source": [
    "page_rank = nx.pagerank(PCN, max_iter=1000, weight=None)"
   ]
  },
  {
   "cell_type": "code",
   "execution_count": 119,
   "metadata": {
    "collapsed": false
   },
   "outputs": [
    {
     "ename": "NetworkXError",
     "evalue": "pagerank: power iteration failed to converge in 10000000 iterations.",
     "output_type": "error",
     "traceback": [
      "\u001b[1;31m---------------------------------------------------------------------------\u001b[0m",
      "\u001b[1;31mNetworkXError\u001b[0m                             Traceback (most recent call last)",
      "\u001b[1;32m<ipython-input-119-0a3df8559b6f>\u001b[0m in \u001b[0;36m<module>\u001b[1;34m()\u001b[0m\n\u001b[1;32m----> 1\u001b[1;33m \u001b[0mwpage_rank\u001b[0m \u001b[1;33m=\u001b[0m \u001b[0mnx\u001b[0m\u001b[1;33m.\u001b[0m\u001b[0mpagerank\u001b[0m\u001b[1;33m(\u001b[0m\u001b[0mPCN\u001b[0m\u001b[1;33m,\u001b[0m \u001b[0mmax_iter\u001b[0m\u001b[1;33m=\u001b[0m\u001b[1;36m10000000\u001b[0m\u001b[1;33m,\u001b[0m \u001b[0mweight\u001b[0m\u001b[1;33m=\u001b[0m\u001b[1;34m'weight'\u001b[0m\u001b[1;33m)\u001b[0m\u001b[1;33m\u001b[0m\u001b[0m\n\u001b[0m",
      "\u001b[1;32mC:\\Users\\Julia Wu\\Anaconda\\lib\\site-packages\\networkx\\algorithms\\link_analysis\\pagerank_alg.pyc\u001b[0m in \u001b[0;36mpagerank\u001b[1;34m(G, alpha, personalization, max_iter, tol, nstart, weight, dangling)\u001b[0m\n",
      "\u001b[1;32mC:\\Users\\Julia Wu\\Anaconda\\lib\\site-packages\\networkx\\utils\\decorators.pyc\u001b[0m in \u001b[0;36m_not_implemented_for\u001b[1;34m(f, *args, **kwargs)\u001b[0m\n\u001b[0;32m     66\u001b[0m                                             ' '.join(graph_types))\n\u001b[0;32m     67\u001b[0m         \u001b[1;32melse\u001b[0m\u001b[1;33m:\u001b[0m\u001b[1;33m\u001b[0m\u001b[0m\n\u001b[1;32m---> 68\u001b[1;33m             \u001b[1;32mreturn\u001b[0m \u001b[0mf\u001b[0m\u001b[1;33m(\u001b[0m\u001b[1;33m*\u001b[0m\u001b[0margs\u001b[0m\u001b[1;33m,\u001b[0m\u001b[1;33m**\u001b[0m\u001b[0mkwargs\u001b[0m\u001b[1;33m)\u001b[0m\u001b[1;33m\u001b[0m\u001b[0m\n\u001b[0m\u001b[0;32m     69\u001b[0m     \u001b[1;32mreturn\u001b[0m \u001b[0m_not_implemented_for\u001b[0m\u001b[1;33m\u001b[0m\u001b[0m\n\u001b[0;32m     70\u001b[0m \u001b[1;33m\u001b[0m\u001b[0m\n",
      "\u001b[1;32mC:\\Users\\Julia Wu\\Anaconda\\lib\\site-packages\\networkx\\algorithms\\link_analysis\\pagerank_alg.pyc\u001b[0m in \u001b[0;36mpagerank\u001b[1;34m(G, alpha, personalization, max_iter, tol, nstart, weight, dangling)\u001b[0m\n\u001b[0;32m    156\u001b[0m             \u001b[1;32mreturn\u001b[0m \u001b[0mx\u001b[0m\u001b[1;33m\u001b[0m\u001b[0m\n\u001b[0;32m    157\u001b[0m     raise NetworkXError('pagerank: power iteration failed to converge '\n\u001b[1;32m--> 158\u001b[1;33m                         'in %d iterations.' % max_iter)\n\u001b[0m\u001b[0;32m    159\u001b[0m \u001b[1;33m\u001b[0m\u001b[0m\n\u001b[0;32m    160\u001b[0m \u001b[1;33m\u001b[0m\u001b[0m\n",
      "\u001b[1;31mNetworkXError\u001b[0m: pagerank: power iteration failed to converge in 10000000 iterations."
     ]
    }
   ],
   "source": [
    "wpage_rank = nx.pagerank(PCN, max_iter=10000000, weight='weight')"
   ]
  },
  {
   "cell_type": "code",
   "execution_count": 191,
   "metadata": {
    "collapsed": true
   },
   "outputs": [],
   "source": [
    "sales = pd.read_csv(\"sales.csv\")"
   ]
  },
  {
   "cell_type": "code",
   "execution_count": 220,
   "metadata": {
    "collapsed": false
   },
   "outputs": [],
   "source": [
    "sales = sales.sort(['Model'])"
   ]
  },
  {
   "cell_type": "code",
   "execution_count": 222,
   "metadata": {
    "collapsed": false
   },
   "outputs": [],
   "source": [
    "sales['page_rank'] = Series(page_rank.values())"
   ]
  },
  {
   "cell_type": "code",
   "execution_count": 223,
   "metadata": {
    "collapsed": true
   },
   "outputs": [],
   "source": [
    "sales['wpage_rank'] = Series(wpage_rank.values())"
   ]
  },
  {
   "cell_type": "code",
   "execution_count": 224,
   "metadata": {
    "collapsed": false
   },
   "outputs": [
    {
     "data": {
      "text/html": [
       "<div>\n",
       "<table border=\"1\" class=\"dataframe\">\n",
       "  <thead>\n",
       "    <tr style=\"text-align: right;\">\n",
       "      <th></th>\n",
       "      <th>Model</th>\n",
       "      <th>Approximate # sold in the U.S.A. (2012+2013)</th>\n",
       "      <th>page_rank</th>\n",
       "      <th>wpage_rank</th>\n",
       "    </tr>\n",
       "  </thead>\n",
       "  <tbody>\n",
       "    <tr>\n",
       "      <th>2</th>\n",
       "      <td>3series</td>\n",
       "      <td>220000</td>\n",
       "      <td>0.1</td>\n",
       "      <td>0.102151</td>\n",
       "    </tr>\n",
       "    <tr>\n",
       "      <th>3</th>\n",
       "      <td>5series</td>\n",
       "      <td>60000</td>\n",
       "      <td>0.1</td>\n",
       "      <td>0.098045</td>\n",
       "    </tr>\n",
       "    <tr>\n",
       "      <th>4</th>\n",
       "      <td>7series</td>\n",
       "      <td>14000</td>\n",
       "      <td>0.1</td>\n",
       "      <td>0.101622</td>\n",
       "    </tr>\n",
       "    <tr>\n",
       "      <th>0</th>\n",
       "      <td>A6</td>\n",
       "      <td>20000</td>\n",
       "      <td>0.1</td>\n",
       "      <td>0.099377</td>\n",
       "    </tr>\n",
       "    <tr>\n",
       "      <th>1</th>\n",
       "      <td>A8</td>\n",
       "      <td>12000</td>\n",
       "      <td>0.1</td>\n",
       "      <td>0.097416</td>\n",
       "    </tr>\n",
       "    <tr>\n",
       "      <th>6</th>\n",
       "      <td>ES</td>\n",
       "      <td>135000</td>\n",
       "      <td>0.1</td>\n",
       "      <td>0.098564</td>\n",
       "    </tr>\n",
       "    <tr>\n",
       "      <th>7</th>\n",
       "      <td>LS</td>\n",
       "      <td>30000</td>\n",
       "      <td>0.1</td>\n",
       "      <td>0.100003</td>\n",
       "    </tr>\n",
       "    <tr>\n",
       "      <th>8</th>\n",
       "      <td>RX</td>\n",
       "      <td>120000</td>\n",
       "      <td>0.1</td>\n",
       "      <td>0.098144</td>\n",
       "    </tr>\n",
       "    <tr>\n",
       "      <th>9</th>\n",
       "      <td>Sclass</td>\n",
       "      <td>25000</td>\n",
       "      <td>0.1</td>\n",
       "      <td>0.101695</td>\n",
       "    </tr>\n",
       "    <tr>\n",
       "      <th>5</th>\n",
       "      <td>XJ</td>\n",
       "      <td>6600</td>\n",
       "      <td>0.1</td>\n",
       "      <td>0.102985</td>\n",
       "    </tr>\n",
       "  </tbody>\n",
       "</table>\n",
       "</div>"
      ],
      "text/plain": [
       "     Model  Approximate # sold in the U.S.A. (2012+2013)  page_rank  \\\n",
       "2  3series                                        220000        0.1   \n",
       "3  5series                                         60000        0.1   \n",
       "4  7series                                         14000        0.1   \n",
       "0       A6                                         20000        0.1   \n",
       "1       A8                                         12000        0.1   \n",
       "6       ES                                        135000        0.1   \n",
       "7       LS                                         30000        0.1   \n",
       "8       RX                                        120000        0.1   \n",
       "9   Sclass                                         25000        0.1   \n",
       "5       XJ                                          6600        0.1   \n",
       "\n",
       "   wpage_rank  \n",
       "2    0.102151  \n",
       "3    0.098045  \n",
       "4    0.101622  \n",
       "0    0.099377  \n",
       "1    0.097416  \n",
       "6    0.098564  \n",
       "7    0.100003  \n",
       "8    0.098144  \n",
       "9    0.101695  \n",
       "5    0.102985  "
      ]
     },
     "execution_count": 224,
     "metadata": {},
     "output_type": "execute_result"
    }
   ],
   "source": [
    "sales"
   ]
  },
  {
   "cell_type": "code",
   "execution_count": 225,
   "metadata": {
    "collapsed": false
   },
   "outputs": [
    {
     "data": {
      "text/plain": [
       "0.031456436245620042"
      ]
     },
     "execution_count": 225,
     "metadata": {},
     "output_type": "execute_result"
    }
   ],
   "source": [
    "sales['Approximate # sold in the U.S.A. (2012+2013)'].corr(sales['page_rank'])"
   ]
  },
  {
   "cell_type": "code",
   "execution_count": 226,
   "metadata": {
    "collapsed": false
   },
   "outputs": [
    {
     "data": {
      "text/plain": [
       "-0.015167250377432903"
      ]
     },
     "execution_count": 226,
     "metadata": {},
     "output_type": "execute_result"
    }
   ],
   "source": [
    "sales['Approximate # sold in the U.S.A. (2012+2013)'].corr(sales['wpage_rank'])"
   ]
  },
  {
   "cell_type": "code",
   "execution_count": null,
   "metadata": {
    "collapsed": true
   },
   "outputs": [],
   "source": []
  }
 ],
 "metadata": {
  "kernelspec": {
   "display_name": "Python 2",
   "language": "python",
   "name": "python2"
  },
  "language_info": {
   "codemirror_mode": {
    "name": "ipython",
    "version": 2
   },
   "file_extension": ".py",
   "mimetype": "text/x-python",
   "name": "python",
   "nbconvert_exporter": "python",
   "pygments_lexer": "ipython2",
   "version": "2.7.10"
  }
 },
 "nbformat": 4,
 "nbformat_minor": 0
}
