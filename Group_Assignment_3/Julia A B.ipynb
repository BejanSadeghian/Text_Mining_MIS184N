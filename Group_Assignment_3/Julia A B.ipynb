{
 "cells": [
  {
   "cell_type": "code",
   "execution_count": 33,
   "metadata": {
    "collapsed": false
   },
   "outputs": [
    {
     "name": "stdout",
     "output_type": "stream",
     "text": [
      "Populating the interactive namespace from numpy and matplotlib\n"
     ]
    }
   ],
   "source": [
    "import networkx as nx\n",
    "import pandas as pd\n",
    "from pandas import DataFrame\n",
    "from pandas import Series\n",
    "from collections import OrderedDict\n",
    "import matplotlib.pyplot as plt\n",
    "%pylab inline\n",
    "import numpy as np\n",
    "import math\n",
    "import scipy\n",
    "import scipy.stats\n",
    "from textblob import Blobber\n",
    "from textblob.tokenizers import WordTokenizer\n",
    "from nltk.corpus import stopwords\n",
    "from textblob import Word\n",
    "from textblob.base import BaseTokenizer\n",
    "from textblob import TextBlob"
   ]
  },
  {
   "cell_type": "markdown",
   "metadata": {},
   "source": [
    "# Task A"
   ]
  },
  {
   "cell_type": "code",
   "execution_count": 2,
   "metadata": {
    "collapsed": false
   },
   "outputs": [],
   "source": [
    "sentiment = pd.read_csv(\"Assignment 3 Sentiment Scores.csv\")\n",
    "#sentiment = pd.read_csv(\"outputv3.csv\")\n",
    "#sentiment = sentiment.multiply(5)\n",
    "#sentiment = sentiment.iloc[:,1:11]"
   ]
  },
  {
   "cell_type": "code",
   "execution_count": 3,
   "metadata": {
    "collapsed": false
   },
   "outputs": [
    {
     "data": {
      "text/html": [
       "<div>\n",
       "<table border=\"1\" class=\"dataframe\">\n",
       "  <thead>\n",
       "    <tr style=\"text-align: right;\">\n",
       "      <th></th>\n",
       "      <th>ES</th>\n",
       "      <th>LS</th>\n",
       "      <th>RX</th>\n",
       "      <th>A8</th>\n",
       "      <th>A6</th>\n",
       "      <th>3series</th>\n",
       "      <th>5series</th>\n",
       "      <th>7series</th>\n",
       "      <th>XJ</th>\n",
       "      <th>Sclass</th>\n",
       "    </tr>\n",
       "  </thead>\n",
       "  <tbody>\n",
       "    <tr>\n",
       "      <th>0</th>\n",
       "      <td>NaN</td>\n",
       "      <td>NaN</td>\n",
       "      <td>4</td>\n",
       "      <td>3</td>\n",
       "      <td>NaN</td>\n",
       "      <td>NaN</td>\n",
       "      <td>NaN</td>\n",
       "      <td>5</td>\n",
       "      <td>2</td>\n",
       "      <td>1</td>\n",
       "    </tr>\n",
       "    <tr>\n",
       "      <th>1</th>\n",
       "      <td>NaN</td>\n",
       "      <td>NaN</td>\n",
       "      <td>3</td>\n",
       "      <td>2</td>\n",
       "      <td>2</td>\n",
       "      <td>2</td>\n",
       "      <td>2</td>\n",
       "      <td>2</td>\n",
       "      <td>NaN</td>\n",
       "      <td>NaN</td>\n",
       "    </tr>\n",
       "  </tbody>\n",
       "</table>\n",
       "</div>"
      ],
      "text/plain": [
       "   ES  LS  RX  A8  A6  3series  5series  7series  XJ  Sclass\n",
       "0 NaN NaN   4   3 NaN      NaN      NaN        5   2       1\n",
       "1 NaN NaN   3   2   2        2        2        2 NaN     NaN"
      ]
     },
     "execution_count": 3,
     "metadata": {},
     "output_type": "execute_result"
    }
   ],
   "source": [
    "sentiment.head(2)"
   ]
  },
  {
   "cell_type": "code",
   "execution_count": 4,
   "metadata": {
    "collapsed": false
   },
   "outputs": [],
   "source": [
    "models = list(sentiment.columns)"
   ]
  },
  {
   "cell_type": "code",
   "execution_count": 5,
   "metadata": {
    "collapsed": false
   },
   "outputs": [],
   "source": [
    "for col1 in xrange(0,10):\n",
    "    for col2 in xrange(col1,10):\n",
    "        if col1 != col2:\n",
    "            sentiment[models[col1] + '-' + models[col2]] = sentiment.ix[:,col1] - sentiment.ix[:,col2]"
   ]
  },
  {
   "cell_type": "code",
   "execution_count": 6,
   "metadata": {
    "collapsed": false
   },
   "outputs": [],
   "source": [
    "comparisons = sentiment.ix[:,10:]"
   ]
  },
  {
   "cell_type": "code",
   "execution_count": 7,
   "metadata": {
    "collapsed": false
   },
   "outputs": [],
   "source": [
    "#edges = OrderedDict()\n",
    "#for col in comparisons:\n",
    "#    model_col = comparisons[col]\n",
    "#    edges[col] = model_col[model_col > 0].mean(), abs(model_col[model_col < 0].mean())"
   ]
  },
  {
   "cell_type": "code",
   "execution_count": 8,
   "metadata": {
    "collapsed": false
   },
   "outputs": [
    {
     "data": {
      "text/html": [
       "<div>\n",
       "<table border=\"1\" class=\"dataframe\">\n",
       "  <thead>\n",
       "    <tr style=\"text-align: right;\">\n",
       "      <th></th>\n",
       "      <th>ES-LS</th>\n",
       "      <th>ES-RX</th>\n",
       "      <th>ES-A8</th>\n",
       "      <th>ES-A6</th>\n",
       "      <th>ES-3series</th>\n",
       "      <th>ES-5series</th>\n",
       "      <th>ES-7series</th>\n",
       "      <th>ES-XJ</th>\n",
       "      <th>ES-Sclass</th>\n",
       "      <th>LS-RX</th>\n",
       "      <th>...</th>\n",
       "      <th>3series-5series</th>\n",
       "      <th>3series-7series</th>\n",
       "      <th>3series-XJ</th>\n",
       "      <th>3series-Sclass</th>\n",
       "      <th>5series-7series</th>\n",
       "      <th>5series-XJ</th>\n",
       "      <th>5series-Sclass</th>\n",
       "      <th>7series-XJ</th>\n",
       "      <th>7series-Sclass</th>\n",
       "      <th>XJ-Sclass</th>\n",
       "    </tr>\n",
       "  </thead>\n",
       "  <tbody>\n",
       "    <tr>\n",
       "      <th>0</th>\n",
       "      <td>NaN</td>\n",
       "      <td>NaN</td>\n",
       "      <td>NaN</td>\n",
       "      <td>NaN</td>\n",
       "      <td>NaN</td>\n",
       "      <td>NaN</td>\n",
       "      <td>NaN</td>\n",
       "      <td>NaN</td>\n",
       "      <td>NaN</td>\n",
       "      <td>NaN</td>\n",
       "      <td>...</td>\n",
       "      <td>NaN</td>\n",
       "      <td>NaN</td>\n",
       "      <td>NaN</td>\n",
       "      <td>NaN</td>\n",
       "      <td>NaN</td>\n",
       "      <td>NaN</td>\n",
       "      <td>NaN</td>\n",
       "      <td>3</td>\n",
       "      <td>4</td>\n",
       "      <td>1</td>\n",
       "    </tr>\n",
       "    <tr>\n",
       "      <th>1</th>\n",
       "      <td>NaN</td>\n",
       "      <td>NaN</td>\n",
       "      <td>NaN</td>\n",
       "      <td>NaN</td>\n",
       "      <td>NaN</td>\n",
       "      <td>NaN</td>\n",
       "      <td>NaN</td>\n",
       "      <td>NaN</td>\n",
       "      <td>NaN</td>\n",
       "      <td>NaN</td>\n",
       "      <td>...</td>\n",
       "      <td>0</td>\n",
       "      <td>0</td>\n",
       "      <td>NaN</td>\n",
       "      <td>NaN</td>\n",
       "      <td>0</td>\n",
       "      <td>NaN</td>\n",
       "      <td>NaN</td>\n",
       "      <td>NaN</td>\n",
       "      <td>NaN</td>\n",
       "      <td>NaN</td>\n",
       "    </tr>\n",
       "  </tbody>\n",
       "</table>\n",
       "<p>2 rows × 45 columns</p>\n",
       "</div>"
      ],
      "text/plain": [
       "   ES-LS  ES-RX  ES-A8  ES-A6  ES-3series  ES-5series  ES-7series  ES-XJ  \\\n",
       "0    NaN    NaN    NaN    NaN         NaN         NaN         NaN    NaN   \n",
       "1    NaN    NaN    NaN    NaN         NaN         NaN         NaN    NaN   \n",
       "\n",
       "   ES-Sclass  LS-RX    ...      3series-5series  3series-7series  3series-XJ  \\\n",
       "0        NaN    NaN    ...                  NaN              NaN         NaN   \n",
       "1        NaN    NaN    ...                    0                0         NaN   \n",
       "\n",
       "   3series-Sclass  5series-7series  5series-XJ  5series-Sclass  7series-XJ  \\\n",
       "0             NaN              NaN         NaN             NaN           3   \n",
       "1             NaN                0         NaN             NaN         NaN   \n",
       "\n",
       "   7series-Sclass  XJ-Sclass  \n",
       "0               4          1  \n",
       "1             NaN        NaN  \n",
       "\n",
       "[2 rows x 45 columns]"
      ]
     },
     "execution_count": 8,
     "metadata": {},
     "output_type": "execute_result"
    }
   ],
   "source": [
    "comparisons.head(2)"
   ]
  },
  {
   "cell_type": "code",
   "execution_count": 9,
   "metadata": {
    "collapsed": false
   },
   "outputs": [],
   "source": [
    "mean_sentiment = DataFrame(index = comparisons.columns)\n",
    "for col in comparisons.columns:\n",
    "    model_col = comparisons[col]\n",
    "    mean_sentiment.ix[col,'Positive'] = model_col[model_col > 0].mean()\n",
    "    mean_sentiment.ix[col,'Negative'] = model_col[model_col < 0].mean()"
   ]
  },
  {
   "cell_type": "code",
   "execution_count": 10,
   "metadata": {
    "collapsed": true
   },
   "outputs": [],
   "source": [
    "PCN = nx.DiGraph()"
   ]
  },
  {
   "cell_type": "code",
   "execution_count": 11,
   "metadata": {
    "collapsed": false
   },
   "outputs": [],
   "source": [
    "# unweighted\n",
    "\n",
    "for col1 in xrange(0,10):\n",
    "    for col2 in xrange(col1,10):\n",
    "        if col1 != col2:\n",
    "            model1 = models[col1]\n",
    "            model2 = models[col2]\n",
    "            if ~np.isnan(mean_sentiment.ix[model1 + '-' + model2, 'Positive']):\n",
    "                PCN.add_edge(model1, model2)\n",
    "            if ~np.isnan(mean_sentiment.ix[model1 + '-' + model2, 'Negative']):\n",
    "                PCN.add_edge(model2, model1)"
   ]
  },
  {
   "cell_type": "code",
   "execution_count": 12,
   "metadata": {
    "collapsed": false
   },
   "outputs": [
    {
     "data": {
      "text/plain": [
       "{'3series': <matplotlib.text.Text at 0x16e79160>,\n",
       " '5series': <matplotlib.text.Text at 0x16e798d0>,\n",
       " '7series': <matplotlib.text.Text at 0x16e18e48>,\n",
       " 'A6': <matplotlib.text.Text at 0x16e6d9b0>,\n",
       " 'A8': <matplotlib.text.Text at 0x16e6dd68>,\n",
       " 'ES': <matplotlib.text.Text at 0x16e79518>,\n",
       " 'LS': <matplotlib.text.Text at 0x16e6d5f8>,\n",
       " 'RX': <matplotlib.text.Text at 0x16e6d240>,\n",
       " 'Sclass': <matplotlib.text.Text at 0x16e18a90>,\n",
       " 'XJ': <matplotlib.text.Text at 0x16e18630>}"
      ]
     },
     "execution_count": 12,
     "metadata": {},
     "output_type": "execute_result"
    },
    {
     "data": {
      "image/png": "[encoded data removed]",
      "text/plain": [
       "<matplotlib.figure.Figure at 0x16bce1d0>"
      ]
     },
     "metadata": {},
     "output_type": "display_data"
    }
   ],
   "source": [
    "pos = nx.circular_layout(PCN)\n",
    "nx.draw(PCN,pos,node_size=2000)\n",
    "nx.draw_networkx_labels(PCN,pos)"
   ]
  },
  {
   "cell_type": "code",
   "execution_count": 13,
   "metadata": {
    "collapsed": false
   },
   "outputs": [],
   "source": [
    "# unweighted\n",
    "\n",
    "#for col1 in xrange(0,10):\n",
    "#    for col2 in xrange(col1,10):\n",
    "#        if col1 != col2:\n",
    "#            model1 = models[col1]\n",
    "#            model2 = models[col2]\n",
    "#            if ~np.isnan(edges[model1 + '-' + model2][0]):\n",
    "#                PCN.add_edge(model1, model2)\n",
    "#            if ~np.isnan(edges[model1 + '-' + model2][1]):\n",
    "#                PCN.add_edge(model2, model1)"
   ]
  },
  {
   "cell_type": "code",
   "execution_count": 14,
   "metadata": {
    "collapsed": true
   },
   "outputs": [],
   "source": [
    "w_PCN = nx.DiGraph()"
   ]
  },
  {
   "cell_type": "code",
   "execution_count": 15,
   "metadata": {
    "collapsed": false
   },
   "outputs": [],
   "source": [
    "# weighted\n",
    "\n",
    "for col1 in xrange(0,10):\n",
    "    for col2 in xrange(col1,10):\n",
    "        if col1 != col2:\n",
    "            model1 = models[col1]\n",
    "            model2 = models[col2]\n",
    "            if ~np.isnan(mean_sentiment.ix[model1 + '-' + model2, 'Positive']):\n",
    "                w_PCN.add_weighted_edges_from([(model1, model2, mean_sentiment.ix[model1 + '-' + model2, 'Positive'])])\n",
    "            if ~np.isnan(mean_sentiment.ix[model1 + '-' + model2, 'Negative']):\n",
    "                w_PCN.add_weighted_edges_from([(model2, model1, abs(mean_sentiment.ix[model1 + '-' + model2, 'Negative']))])"
   ]
  },
  {
   "cell_type": "code",
   "execution_count": 16,
   "metadata": {
    "collapsed": true
   },
   "outputs": [],
   "source": [
    "unweighted_PR = nx.pagerank(PCN, alpha = 0.5, max_iter=100)\n",
    "weighted_PR = nx.pagerank(w_PCN, alpha = 0.5, weight = 'weight')"
   ]
  },
  {
   "cell_type": "markdown",
   "metadata": {},
   "source": [
    "# Task B"
   ]
  },
  {
   "cell_type": "code",
   "execution_count": 17,
   "metadata": {
    "collapsed": false
   },
   "outputs": [],
   "source": [
    "sales_dict = {'A6':20000, 'A8':12000, '3series':220000, '5series':60000, '7series':14000, 'XJ':6600, 'ES':135000, 'LS':30000, 'RX':120000, 'Sclass':25000}\n",
    "\n",
    "sales = pd.DataFrame(sales_dict.values(), index=sales_dict.keys())\n",
    "sales.columns = ['Sales']\n",
    "sales = sales.sort()"
   ]
  },
  {
   "cell_type": "code",
   "execution_count": 18,
   "metadata": {
    "collapsed": false
   },
   "outputs": [],
   "source": [
    "sales['unweighted_PR'] = unweighted_PR.values()"
   ]
  },
  {
   "cell_type": "code",
   "execution_count": 19,
   "metadata": {
    "collapsed": true
   },
   "outputs": [],
   "source": [
    "sales['weighted_PR'] = weighted_PR.values()"
   ]
  },
  {
   "cell_type": "code",
   "execution_count": 20,
   "metadata": {
    "collapsed": false
   },
   "outputs": [
    {
     "data": {
      "text/plain": [
       "-0.12309149097933274"
      ]
     },
     "execution_count": 20,
     "metadata": {},
     "output_type": "execute_result"
    }
   ],
   "source": [
    "sales['Sales'].corr(sales['unweighted_PR'], method='spearman')"
   ]
  },
  {
   "cell_type": "code",
   "execution_count": 21,
   "metadata": {
    "collapsed": false
   },
   "outputs": [
    {
     "data": {
      "text/plain": [
       "0.29696969696969699"
      ]
     },
     "execution_count": 21,
     "metadata": {},
     "output_type": "execute_result"
    }
   ],
   "source": [
    "sales['Sales'].corr(sales['weighted_PR'], method='spearman')"
   ]
  },
  {
   "cell_type": "code",
   "execution_count": 22,
   "metadata": {
    "collapsed": false
   },
   "outputs": [
    {
     "data": {
      "text/html": [
       "<div>\n",
       "<table border=\"1\" class=\"dataframe\">\n",
       "  <thead>\n",
       "    <tr style=\"text-align: right;\">\n",
       "      <th></th>\n",
       "      <th>Sales</th>\n",
       "      <th>unweighted_PR</th>\n",
       "      <th>weighted_PR</th>\n",
       "    </tr>\n",
       "  </thead>\n",
       "  <tbody>\n",
       "    <tr>\n",
       "      <th>3series</th>\n",
       "      <td>220000</td>\n",
       "      <td>0.091206</td>\n",
       "      <td>0.082186</td>\n",
       "    </tr>\n",
       "    <tr>\n",
       "      <th>5series</th>\n",
       "      <td>60000</td>\n",
       "      <td>0.106905</td>\n",
       "      <td>0.100378</td>\n",
       "    </tr>\n",
       "    <tr>\n",
       "      <th>7series</th>\n",
       "      <td>14000</td>\n",
       "      <td>0.100189</td>\n",
       "      <td>0.104794</td>\n",
       "    </tr>\n",
       "    <tr>\n",
       "      <th>A6</th>\n",
       "      <td>20000</td>\n",
       "      <td>0.086303</td>\n",
       "      <td>0.076910</td>\n",
       "    </tr>\n",
       "    <tr>\n",
       "      <th>A8</th>\n",
       "      <td>12000</td>\n",
       "      <td>0.106905</td>\n",
       "      <td>0.098633</td>\n",
       "    </tr>\n",
       "    <tr>\n",
       "      <th>ES</th>\n",
       "      <td>135000</td>\n",
       "      <td>0.099241</td>\n",
       "      <td>0.111704</td>\n",
       "    </tr>\n",
       "    <tr>\n",
       "      <th>LS</th>\n",
       "      <td>30000</td>\n",
       "      <td>0.106905</td>\n",
       "      <td>0.112458</td>\n",
       "    </tr>\n",
       "    <tr>\n",
       "      <th>RX</th>\n",
       "      <td>120000</td>\n",
       "      <td>0.097721</td>\n",
       "      <td>0.107050</td>\n",
       "    </tr>\n",
       "    <tr>\n",
       "      <th>Sclass</th>\n",
       "      <td>25000</td>\n",
       "      <td>0.106905</td>\n",
       "      <td>0.105753</td>\n",
       "    </tr>\n",
       "    <tr>\n",
       "      <th>XJ</th>\n",
       "      <td>6600</td>\n",
       "      <td>0.097721</td>\n",
       "      <td>0.100135</td>\n",
       "    </tr>\n",
       "  </tbody>\n",
       "</table>\n",
       "</div>"
      ],
      "text/plain": [
       "          Sales  unweighted_PR  weighted_PR\n",
       "3series  220000       0.091206     0.082186\n",
       "5series   60000       0.106905     0.100378\n",
       "7series   14000       0.100189     0.104794\n",
       "A6        20000       0.086303     0.076910\n",
       "A8        12000       0.106905     0.098633\n",
       "ES       135000       0.099241     0.111704\n",
       "LS        30000       0.106905     0.112458\n",
       "RX       120000       0.097721     0.107050\n",
       "Sclass    25000       0.106905     0.105753\n",
       "XJ         6600       0.097721     0.100135"
      ]
     },
     "execution_count": 22,
     "metadata": {},
     "output_type": "execute_result"
    }
   ],
   "source": [
    "sales"
   ]
  },
  {
   "cell_type": "markdown",
   "metadata": {
    "collapsed": true
   },
   "source": [
    "# Task C"
   ]
  },
  {
   "cell_type": "code",
   "execution_count": 25,
   "metadata": {
    "collapsed": true
   },
   "outputs": [],
   "source": [
    "reviews = pd.read_csv(\"Assignment 3 Edmunds Posts.csv\", usecols=[0])"
   ]
  },
  {
   "cell_type": "code",
   "execution_count": 30,
   "metadata": {
    "collapsed": false
   },
   "outputs": [
    {
     "data": {
      "text/html": [
       "<div>\n",
       "<table border=\"1\" class=\"dataframe\">\n",
       "  <thead>\n",
       "    <tr style=\"text-align: right;\">\n",
       "      <th></th>\n",
       "      <th>Posts</th>\n",
       "    </tr>\n",
       "  </thead>\n",
       "  <tbody>\n",
       "    <tr>\n",
       "      <th>0</th>\n",
       "      <td>\"As a Mercedes fan, I was sad, but I knew that...</td>\n",
       "    </tr>\n",
       "    <tr>\n",
       "      <th>1</th>\n",
       "      <td>\"By the way the new GS, next lsand new $150K s...</td>\n",
       "    </tr>\n",
       "  </tbody>\n",
       "</table>\n",
       "</div>"
      ],
      "text/plain": [
       "                                               Posts\n",
       "0  \"As a Mercedes fan, I was sad, but I knew that...\n",
       "1  \"By the way the new GS, next lsand new $150K s..."
      ]
     },
     "execution_count": 30,
     "metadata": {},
     "output_type": "execute_result"
    }
   ],
   "source": [
    "reviews.head(2)"
   ]
  },
  {
   "cell_type": "code",
   "execution_count": 28,
   "metadata": {
    "collapsed": false
   },
   "outputs": [],
   "source": [
    "tb = Blobber(tokenizer=WordTokenizer())"
   ]
  },
  {
   "cell_type": "code",
   "execution_count": 29,
   "metadata": {
    "collapsed": true
   },
   "outputs": [],
   "source": [
    "def tokenize (x):\n",
    "    return list(tb(str(x)).tokenize())"
   ]
  },
  {
   "cell_type": "code",
   "execution_count": 32,
   "metadata": {
    "collapsed": false
   },
   "outputs": [],
   "source": [
    "reviews['tokens'] = reviews['Posts'].apply(tokenize)"
   ]
  },
  {
   "cell_type": "code",
   "execution_count": 34,
   "metadata": {
    "collapsed": true
   },
   "outputs": [],
   "source": [
    "sw = stopwords.words('english')\n",
    "sw.remove('not')"
   ]
  },
  {
   "cell_type": "code",
   "execution_count": 41,
   "metadata": {
    "collapsed": true
   },
   "outputs": [],
   "source": [
    "def parse (string):\n",
    "    global sw\n",
    "    tokens = list(TextBlob(str(string)).words)\n",
    "    no_stop = [word for word in tokens if word.isalpha() and word.lower() not in sw]\n",
    "    lemmaed = [Word(w).lemmatize() for w in no_stop]\n",
    "    lowercase = [word.lower() for word in lemmaed]\n",
    "    return lowercase"
   ]
  },
  {
   "cell_type": "code",
   "execution_count": 43,
   "metadata": {
    "collapsed": true
   },
   "outputs": [],
   "source": [
    "reviews['tokens_clean'] = reviews['Posts'].apply(parse)"
   ]
  },
  {
   "cell_type": "code",
   "execution_count": 45,
   "metadata": {
    "collapsed": true
   },
   "outputs": [],
   "source": [
    "models = [\"es\", \"ls\", \"rx\", \"a8\", \"a6\", \"3series\", \"5series\", \"7series\", \"xj\", \"sclass\"]"
   ]
  },
  {
   "cell_type": "code",
   "execution_count": 46,
   "metadata": {
    "collapsed": true
   },
   "outputs": [],
   "source": [
    "models = [\" es \", \" ls \", \" rx \", \" a8 \", \" a6 \", \" 3series \", \" 5series \", \" 7series \", \" xj \", \" sclass \"]"
   ]
  },
  {
   "cell_type": "code",
   "execution_count": 50,
   "metadata": {
    "collapsed": true
   },
   "outputs": [],
   "source": [
    "def token_extractor (tokens, models, num_words):\n",
    "    token_list = []\n",
    "    for i in xrange(len(tokens)):\n",
    "        if tokens[i] in models:\n",
    "            token_list.append(tokens[i-num_words:i+1+num_words])\n",
    "    return token_list"
   ]
  },
  {
   "cell_type": "code",
   "execution_count": 51,
   "metadata": {
    "collapsed": false
   },
   "outputs": [],
   "source": [
    "reviews['model_tokens'] = reviews['tokens_clean'].apply(lambda x: token_extractor(x, models, 2))"
   ]
  },
  {
   "cell_type": "code",
   "execution_count": 53,
   "metadata": {
    "collapsed": false
   },
   "outputs": [
    {
     "data": {
      "text/html": [
       "<div>\n",
       "<table border=\"1\" class=\"dataframe\">\n",
       "  <thead>\n",
       "    <tr style=\"text-align: right;\">\n",
       "      <th></th>\n",
       "      <th>Posts</th>\n",
       "      <th>tokens</th>\n",
       "      <th>tokens_clean</th>\n",
       "      <th>model_tokens</th>\n",
       "    </tr>\n",
       "  </thead>\n",
       "  <tbody>\n",
       "    <tr>\n",
       "      <th>0</th>\n",
       "      <td>\"As a Mercedes fan, I was sad, but I knew that...</td>\n",
       "      <td>[``, As, a, Mercedes, fan, ,, I, was, sad, ,, ...</td>\n",
       "      <td>[mercedes, fan, sad, knew, not, typical, situa...</td>\n",
       "      <td>[]</td>\n",
       "    </tr>\n",
       "    <tr>\n",
       "      <th>1</th>\n",
       "      <td>\"By the way the new GS, next lsand new $150K s...</td>\n",
       "      <td>[``, By, the, way, the, new, GS, ,, next, lsan...</td>\n",
       "      <td>[way, new, gs, next, lsand, new, sport, car, i...</td>\n",
       "      <td>[]</td>\n",
       "    </tr>\n",
       "    <tr>\n",
       "      <th>2</th>\n",
       "      <td>\"Come now, does anyone really believe that wha...</td>\n",
       "      <td>[``, Come, now, ,, does, anyone, really, belie...</td>\n",
       "      <td>[come, anyone, really, believe, whatever, pric...</td>\n",
       "      <td>[]</td>\n",
       "    </tr>\n",
       "    <tr>\n",
       "      <th>3</th>\n",
       "      <td>The success of the LexusES does prove that, at...</td>\n",
       "      <td>[The, success, of, the, LexusES, does, prove, ...</td>\n",
       "      <td>[success, lexuses, prove, least, us, market, l...</td>\n",
       "      <td>[]</td>\n",
       "    </tr>\n",
       "    <tr>\n",
       "      <th>4</th>\n",
       "      <td>Which still didn't amount to beating their com...</td>\n",
       "      <td>[Which, still, did, n't, amount, to, beating, ...</td>\n",
       "      <td>[still, amount, beating, competitor, bmw, merc...</td>\n",
       "      <td>[]</td>\n",
       "    </tr>\n",
       "    <tr>\n",
       "      <th>5</th>\n",
       "      <td>..but I wonder how many employees are secure e...</td>\n",
       "      <td>[..but, I, wonder, how, many, employees, are, ...</td>\n",
       "      <td>[wonder, many, employee, secure, enough, take,...</td>\n",
       "      <td>[]</td>\n",
       "    </tr>\n",
       "    <tr>\n",
       "      <th>6</th>\n",
       "      <td>\"Do you think that if Mercedes went back to th...</td>\n",
       "      <td>[``, Do, you, think, that, if, Mercedes, went,...</td>\n",
       "      <td>[think, mercedes, went, back, former, style, l...</td>\n",
       "      <td>[]</td>\n",
       "    </tr>\n",
       "    <tr>\n",
       "      <th>7</th>\n",
       "      <td>\"How 'bout Jaguar, Phaeton, Acura, Ferrari, AM...</td>\n",
       "      <td>[``, How, 'bout, Jaguar, ,, Phaeton, ,, Acura,...</td>\n",
       "      <td>[jaguar, phaeton, acura, ferrari, etc, favorit...</td>\n",
       "      <td>[]</td>\n",
       "    </tr>\n",
       "    <tr>\n",
       "      <th>8</th>\n",
       "      <td>\"I don't understand what Audi is going to do y...</td>\n",
       "      <td>[``, I, do, n't, understand, what, Audi, is, g...</td>\n",
       "      <td>[understand, audi, going, yet, prior, release,...</td>\n",
       "      <td>[]</td>\n",
       "    </tr>\n",
       "    <tr>\n",
       "      <th>9</th>\n",
       "      <td>\"I'll bet most critics of an LexusLS have neve...</td>\n",
       "      <td>[``, I, 'll, bet, most, critics, of, an, Lexus...</td>\n",
       "      <td>[bet, critic, lexusls, never, sat, behind, whe...</td>\n",
       "      <td>[]</td>\n",
       "    </tr>\n",
       "  </tbody>\n",
       "</table>\n",
       "</div>"
      ],
      "text/plain": [
       "                                               Posts  \\\n",
       "0  \"As a Mercedes fan, I was sad, but I knew that...   \n",
       "1  \"By the way the new GS, next lsand new $150K s...   \n",
       "2  \"Come now, does anyone really believe that wha...   \n",
       "3  The success of the LexusES does prove that, at...   \n",
       "4  Which still didn't amount to beating their com...   \n",
       "5  ..but I wonder how many employees are secure e...   \n",
       "6  \"Do you think that if Mercedes went back to th...   \n",
       "7  \"How 'bout Jaguar, Phaeton, Acura, Ferrari, AM...   \n",
       "8  \"I don't understand what Audi is going to do y...   \n",
       "9  \"I'll bet most critics of an LexusLS have neve...   \n",
       "\n",
       "                                              tokens  \\\n",
       "0  [``, As, a, Mercedes, fan, ,, I, was, sad, ,, ...   \n",
       "1  [``, By, the, way, the, new, GS, ,, next, lsan...   \n",
       "2  [``, Come, now, ,, does, anyone, really, belie...   \n",
       "3  [The, success, of, the, LexusES, does, prove, ...   \n",
       "4  [Which, still, did, n't, amount, to, beating, ...   \n",
       "5  [..but, I, wonder, how, many, employees, are, ...   \n",
       "6  [``, Do, you, think, that, if, Mercedes, went,...   \n",
       "7  [``, How, 'bout, Jaguar, ,, Phaeton, ,, Acura,...   \n",
       "8  [``, I, do, n't, understand, what, Audi, is, g...   \n",
       "9  [``, I, 'll, bet, most, critics, of, an, Lexus...   \n",
       "\n",
       "                                        tokens_clean model_tokens  \n",
       "0  [mercedes, fan, sad, knew, not, typical, situa...           []  \n",
       "1  [way, new, gs, next, lsand, new, sport, car, i...           []  \n",
       "2  [come, anyone, really, believe, whatever, pric...           []  \n",
       "3  [success, lexuses, prove, least, us, market, l...           []  \n",
       "4  [still, amount, beating, competitor, bmw, merc...           []  \n",
       "5  [wonder, many, employee, secure, enough, take,...           []  \n",
       "6  [think, mercedes, went, back, former, style, l...           []  \n",
       "7  [jaguar, phaeton, acura, ferrari, etc, favorit...           []  \n",
       "8  [understand, audi, going, yet, prior, release,...           []  \n",
       "9  [bet, critic, lexusls, never, sat, behind, whe...           []  "
      ]
     },
     "execution_count": 53,
     "metadata": {},
     "output_type": "execute_result"
    }
   ],
   "source": [
    "reviews.head(10)"
   ]
  },
  {
   "cell_type": "code",
   "execution_count": null,
   "metadata": {
    "collapsed": true
   },
   "outputs": [],
   "source": []
  }
 ],
 "metadata": {
  "kernelspec": {
   "display_name": "Python 2",
   "language": "python",
   "name": "python2"
  },
  "language_info": {
   "codemirror_mode": {
    "name": "ipython",
    "version": 2
   },
   "file_extension": ".py",
   "mimetype": "text/x-python",
   "name": "python",
   "nbconvert_exporter": "python",
   "pygments_lexer": "ipython2",
   "version": "2.7.10"
  }
 },
 "nbformat": 4,
 "nbformat_minor": 0
}
