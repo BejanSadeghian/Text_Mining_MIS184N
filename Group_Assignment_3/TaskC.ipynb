{
 "cells": [
  {
   "cell_type": "code",
   "execution_count": 1,
   "metadata": {
    "collapsed": false
   },
   "outputs": [],
   "source": [
    "import pandas as pd\n",
    "import cPickle as pickle"
   ]
  },
  {
   "cell_type": "code",
   "execution_count": 21,
   "metadata": {
    "collapsed": false
   },
   "outputs": [
    {
     "data": {
      "text/plain": [
       "Posts    \"As a Mercedes fan, I was sad, but I knew that...\n",
       "Name: 0, dtype: object"
      ]
     },
     "execution_count": 21,
     "metadata": {},
     "output_type": "execute_result"
    }
   ],
   "source": [
    "#scores=pd.read_csv(\"Assignment 3 Sentiment Scores (2).csv\")\n",
    "data=pd.read_csv(\"Assignment 3 Edmunds Posts.csv\", usecols=[0])\n",
    "data.ix[0]"
   ]
  },
  {
   "cell_type": "code",
   "execution_count": 22,
   "metadata": {
    "collapsed": false
   },
   "outputs": [],
   "source": [
    "from textblob import Blobber\n",
    "from textblob.tokenizers import WordTokenizer\n",
    "\n",
    "tb=Blobber(tokenizer=WordTokenizer())"
   ]
  },
  {
   "cell_type": "code",
   "execution_count": 23,
   "metadata": {
    "collapsed": true
   },
   "outputs": [],
   "source": [
    "def q (x):\n",
    "    return list(tb(str(x)).tokenize())"
   ]
  },
  {
   "cell_type": "code",
   "execution_count": 24,
   "metadata": {
    "collapsed": false
   },
   "outputs": [],
   "source": [
    "data['tokens']=data['Posts'].apply(q)"
   ]
  },
  {
   "cell_type": "code",
   "execution_count": 25,
   "metadata": {
    "collapsed": false
   },
   "outputs": [
    {
     "data": {
      "text/plain": [
       "230"
      ]
     },
     "execution_count": 25,
     "metadata": {},
     "output_type": "execute_result"
    }
   ],
   "source": [
    "len(data)"
   ]
  },
  {
   "cell_type": "code",
   "execution_count": 26,
   "metadata": {
    "collapsed": false
   },
   "outputs": [],
   "source": [
    "from nltk.corpus import stopwords\n",
    "from textblob import Word\n",
    "from textblob.base import BaseTokenizer\n",
    "from textblob import TextBlob"
   ]
  },
  {
   "cell_type": "code",
   "execution_count": 27,
   "metadata": {
    "collapsed": false
   },
   "outputs": [],
   "source": [
    "sw=stopwords.words('english')\n",
    "\n",
    "sw.remove('not')\n",
    "\n",
    "tb=Blobber(tokenizer=WordTokenizer())\n",
    "\n",
    "def doItAllFunction (xstring):\n",
    "    global sw\n",
    "    tokens=list(TextBlob(str(xstring)).words)\n",
    "    removeStopWords=[word for word in tokens if word.isalpha() and word.lower() not in sw]\n",
    "    lemmaed=[Word(w).lemmatize() for w in removeStopWords]\n",
    "    lowercase=[word.lower() for word in lemmaed]\n",
    "    return lowercase"
   ]
  },
  {
   "cell_type": "code",
   "execution_count": 28,
   "metadata": {
    "collapsed": false
   },
   "outputs": [],
   "source": [
    "data['tokens_clean']=data['Posts'].apply(doItAllFunction)"
   ]
  },
  {
   "cell_type": "code",
   "execution_count": 32,
   "metadata": {
    "collapsed": false
   },
   "outputs": [],
   "source": [
    "models=[\"es\",\"ls\",\"rx\",\"a8\",\"a6\",\"3series\",\"5series\",\"7series\",\"xj\",\"sclass\", \"lexusls\"]"
   ]
  },
  {
   "cell_type": "code",
   "execution_count": 33,
   "metadata": {
    "collapsed": false
   },
   "outputs": [],
   "source": [
    "def finder (tokensList, modelList, numberWords):\n",
    "    blanklist=[]\n",
    "    for i in xrange(len(tokensList)):\n",
    "        if tokensList[i] in modelList:\n",
    "            blanklist.append(tokensList[i-numberWords:i+1+numberWords])\n",
    "    return blanklist"
   ]
  },
  {
   "cell_type": "code",
   "execution_count": 34,
   "metadata": {
    "collapsed": false
   },
   "outputs": [],
   "source": [
    "data['model_tokens']=data['tokens_clean'].apply(lambda x: finder(x,models, 2))"
   ]
  },
  {
   "cell_type": "code",
   "execution_count": 36,
   "metadata": {
    "collapsed": false
   },
   "outputs": [
    {
     "data": {
      "text/plain": [
       "'\"By the way the new GS, next lsand new $150K sports car are all Italian designs.Do you know the designer because every article says these were designed by Lexus in Japan, especially that sports car concept.  The GS itself started out as an Italian design in 1993, and has since been altered greatly.  Lexus is working with an Italian designer, I read that somewhere, but the cars you\\'re seeing now the GS and that sports car concepts aren\\'t of Italian design, if they are thats most unfortunate.  The next lsmight be though. All luxury car brands are highly reguarded, at least the ones we discuss on this board, doesn\\'t mean there won\\'t be price resistance. Every brand has their limits. I\\'ll believe a 600hp Lexus sedan when I see it.  I hardly see Toyota approving such a car with such a pointless amount of horsepower. M'"
      ]
     },
     "execution_count": 36,
     "metadata": {},
     "output_type": "execute_result"
    }
   ],
   "source": [
    "data['Posts'][1]"
   ]
  },
  {
   "cell_type": "code",
   "execution_count": 43,
   "metadata": {
    "collapsed": false
   },
   "outputs": [
    {
     "data": {
      "text/plain": [
       "\"Your Logic would make Chrysler and Mercedes the same company...Heck Chrysler is carrying Mercedes. There is a HUGE difference between the Toyota/Lexus connection and the Mercedes/Chrysler connection. Mercedes and Chrysler were independent companies long before 1998 when Daimler-Benz purchased Chrysler group. Despite financial links, Mercedes maintains its independence as a separate entity from its corporate siblings. On the other-hand we have Toyota/Lexus. This isn&#146;t a matter of one company owning another company or one company merging with another company? Lexus quite literally IS Toyota in every sense. In Japan you won&#146;t find a domestic Lexus LexusLS on the road but you will see plenty of Toyota Celisors. &#147;Lexus&#148; was just re-badge stunt pulled here in the U.S. to lure unwitting American&#146;s into paying $60k for a Toyota. So yes, Lexus and Toyota are the same company? its been that way from the beginning.  All the Technology in the World is valueless if it doesn't work properly ..As I recall someone has already posted a list of often purchased parts that could effect the safety of the car.There was so much wrong with that link I&#146;m not sure where to begin. He tried to pull a fast one on all of us by posting some sort of amateur &#147;e-bay seller site&#148; and then telling us that it was definitive proof of Mercedes reliability issues. Furthermore, he claimed that he &#147;didn&#146;t see Lexus&#148; on this oh-so-professional and accurate website? which would make sense considering it was a European site and Lexus doesn&#146;t even appear on the radar in Europe.  I countered by listing a news release that told of a recent recall of 150k Camry&#146;s due to defective side airbags. Furthermore, I linked to an insurance page that listed several &#147;safety problems&#148; with Lexus vehicles. The point is, if you&#146;re going to provide &#147;proof&#148; of Mercedes reliability issues, at least provide some credible proof. Also, if you&#146;re going to preach about the reliability, don&#146;t pretend that Lexus is invincible. Rear seat airbags are of little value the Curtins that protect your head and the seatbelts are the essentual safety features...So Called safety features with little more value then bragging effect is worth how much?Wrong. I am simply floored by this comment. I understand that you may want to mitigate Lexus&#146; disregard for safety by belittling the importance of side airbags, but you simply cannot. Side airbags are vital in any type of side impact. Side head airbags (pioneered by BMW) ONLY protect the head. Side airbags provide protection for the torso and pelvis that a seatbelt alone cannot. The presence of a side airbag can mean the difference between life and death. Just look at some of the side impact tests on the IIHS website and notice how cars without side airbags score extremely poorly and those same cars with side airbags score markedly better. Saying that side airbags are unimportant is just as ridiculous as saying front airbags and seatbelts are frivolous features. They once did have a great reputation for safety and innovation...If I were buying a 60s or 70s or even 80s car it would be a Mercedes..Times change many cars now have learned from Mercedes and even helped move many of Mercedes safety innovations into the 21st. Century, The result is many cars now rival Mercedes in the area of safety. The problem with this statement is that Mercedes STILL DOES have a great reputation for safety and innovation. You speak in the past tense, that they &#147;did&#148; have a great reputation, even though Mercedes has been churning out safety innovations throughout the 90s and into the present. Please, explain to me how others have &#147;helped move many innovations into the 21st century.&#148; Last I checked, Mercedes was the one of the only ones pioneering these advances and furthermore had all the latest and greatest features years before Lexus. Only Volvo and BMW come close to matching the sheer number of Mercedes safety innovations. Lexus has contributed absolutely nothing and continues to leach off the R&D of others to this day.You constantly talk about cost cutting in the Lexus...That is true but far from the Negative you seem to want to project it to be.It seems pretty negative to me that Lexus decided to skimp and save $100 on their flagship sedan by not including rear side airbags. It seems pretty negative to me that Lexus decides to nickel and dime its customers for optional safety features like pre-safe.  It seems pretty negative that Lexus waits upwards of 4 years before adopting critical safety features on its models like ESC and head airbags, and even then makes some of these features optional / half-assed on lower priced models.  Correct me if I&#146;m wrong, but these are just a few of the many instances of Lexus cost cutting that seem pretty negative?The cost saving results partially from Lexus perfected heavy use of robots to build cars...the resulting percision is one of the primary reasons for the Lexus Reliability EDGE....Again, I already acknowledge that Lexus is more reliable. In fact, reliability is the only redeeming value of Toyota. Hopefully Toyota will force MB to make its cars more reliable, and then people won't have any reason to preach about the virtues of Lexus. However, for me reliability takes a back seat on my priority list when I shop for a car.\""
      ]
     },
     "execution_count": 43,
     "metadata": {},
     "output_type": "execute_result"
    }
   ],
   "source": [
    "data['Posts'].iloc[229,]"
   ]
  },
  {
   "cell_type": "code",
   "execution_count": 1,
   "metadata": {
    "collapsed": false
   },
   "outputs": [
    {
     "ename": "SyntaxError",
     "evalue": "invalid syntax (<ipython-input-1-d4d02ee54489>, line 1)",
     "output_type": "error",
     "traceback": [
      "\u001b[1;36m  File \u001b[1;32m\"<ipython-input-1-d4d02ee54489>\"\u001b[1;36m, line \u001b[1;32m1\u001b[0m\n\u001b[1;33m    DoItAll(WordTokenizer):\u001b[0m\n\u001b[1;37m                          ^\u001b[0m\n\u001b[1;31mSyntaxError\u001b[0m\u001b[1;31m:\u001b[0m invalid syntax\n"
     ]
    }
   ],
   "source": [
    "DoItAll(WordTokenizer):\n",
    "    def __self__(self):\n",
    "        self.sw=stopwords.words('english').remove('not')\n",
    "    def __tokenize__(self, text):\n",
    "        tokens=list(TextBlob(str(text)).words)\n",
    "        removeStopWords=[word for word in tokens if word.isalpha() and word.lower() not in sw]\n",
    "        lemmaed=[Word(w).lemmatize() for w in removeStopWords]\n",
    "        lowercase=[word.lower() for word in lemmaed]\n",
    "        return lowercase"
   ]
  },
  {
   "cell_type": "code",
   "execution_count": null,
   "metadata": {
    "collapsed": true
   },
   "outputs": [],
   "source": []
  }
 ],
 "metadata": {
  "kernelspec": {
   "display_name": "Python 2",
   "language": "python",
   "name": "python2"
  },
  "language_info": {
   "codemirror_mode": {
    "name": "ipython",
    "version": 2
   },
   "file_extension": ".py",
   "mimetype": "text/x-python",
   "name": "python",
   "nbconvert_exporter": "python",
   "pygments_lexer": "ipython2",
   "version": "2.7.9"
  },
  "notify_time": "0"
 },
 "nbformat": 4,
 "nbformat_minor": 0
}
