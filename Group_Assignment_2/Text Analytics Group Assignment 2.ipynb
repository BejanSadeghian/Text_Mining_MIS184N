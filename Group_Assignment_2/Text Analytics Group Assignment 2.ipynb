{
 "cells": [
  {
   "cell_type": "code",
   "execution_count": 95,
   "metadata": {
    "collapsed": false
   },
   "outputs": [],
   "source": [
    "import pandas as pd\n",
    "from pandas import Series\n",
    "from pandas import DataFrame\n",
    "from patsy import dmatrices\n",
    "from sklearn.cross_validation import train_test_split\n",
    "from sklearn.linear_model import LogisticRegression\n",
    "from sklearn import metrics\n",
    "from sklearn import neighbors\n",
    "import random\n",
    "from sklearn.feature_extraction.text import TfidfVectorizer\n",
    "from sklearn.naive_bayes import MultinomialNB"
   ]
  },
  {
   "cell_type": "code",
   "execution_count": 74,
   "metadata": {
    "collapsed": false
   },
   "outputs": [],
   "source": [
    "yelp = pd.read_csv(\"Yelp Data Restaurant Reviews Ratings.csv\")"
   ]
  },
  {
   "cell_type": "code",
   "execution_count": 75,
   "metadata": {
    "collapsed": false
   },
   "outputs": [],
   "source": [
    "high_mask = yelp['stars'] > 3\n",
    "yelp['High'] = 0\n",
    "yelp.ix[high_mask, 'High'] = 1"
   ]
  },
  {
   "cell_type": "code",
   "execution_count": 76,
   "metadata": {
    "collapsed": true
   },
   "outputs": [],
   "source": [
    "formula = 'High ~ 0 + votes_cool + votes_funny + votes_useful + Cheap + Moderate + Expensive  ' + \\\n",
    "' + VeryExpensive + American + Chinese + French + Japanese + Indian + Italian + Greek ' + \\\n",
    "' + Mediterranean + Mexican + Thai + Vietnamese + Others'"
   ]
  },
  {
   "cell_type": "code",
   "execution_count": 77,
   "metadata": {
    "collapsed": false
   },
   "outputs": [],
   "source": [
    "Y, X = dmatrices(formula, yelp, return_type='dataframe')\n",
    "y = Y['High'].values"
   ]
  },
  {
   "cell_type": "code",
   "execution_count": 78,
   "metadata": {
    "collapsed": true
   },
   "outputs": [],
   "source": [
    "X_train, X_test, y_train, y_test = train_test_split(X, y, test_size=0.3, random_state=1)"
   ]
  },
  {
   "cell_type": "code",
   "execution_count": 79,
   "metadata": {
    "collapsed": true
   },
   "outputs": [],
   "source": [
    "# Logistic Regression\n",
    "\n",
    "logistic_model = LogisticRegression()\n",
    "logistic_result = logistic_model.fit(X_train, y_train)"
   ]
  },
  {
   "cell_type": "code",
   "execution_count": 80,
   "metadata": {
    "collapsed": false
   },
   "outputs": [
    {
     "name": "stdout",
     "output_type": "stream",
     "text": [
      "0.684977498393\n"
     ]
    }
   ],
   "source": [
    "logistic_train_prediction = logistic_model.predict(X_train)\n",
    "print metrics.accuracy_score(y_train, logistic_train_prediction)"
   ]
  },
  {
   "cell_type": "code",
   "execution_count": 81,
   "metadata": {
    "collapsed": false
   },
   "outputs": [
    {
     "name": "stdout",
     "output_type": "stream",
     "text": [
      "0.685\n"
     ]
    }
   ],
   "source": [
    "logistic_test_prediction = logistic_model.predict(X_test)\n",
    "print metrics.accuracy_score(y_test, logistic_test_prediction)"
   ]
  },
  {
   "cell_type": "code",
   "execution_count": 82,
   "metadata": {
    "collapsed": false
   },
   "outputs": [],
   "source": [
    "# KNN\n",
    "\n",
    "knn_model = neighbors.KNeighborsClassifier(n_neighbors=15, weights='uniform', p=2)\n",
    "knn_result = knn_model.fit(X_train, y_train)"
   ]
  },
  {
   "cell_type": "code",
   "execution_count": 83,
   "metadata": {
    "collapsed": false
   },
   "outputs": [
    {
     "name": "stdout",
     "output_type": "stream",
     "text": [
      "0.687406243303\n"
     ]
    }
   ],
   "source": [
    "knn_train_prediction = knn_model.predict(X_train)\n",
    "print metrics.accuracy_score(y_train, knn_train_prediction)"
   ]
  },
  {
   "cell_type": "code",
   "execution_count": 84,
   "metadata": {
    "collapsed": false
   },
   "outputs": [
    {
     "name": "stdout",
     "output_type": "stream",
     "text": [
      "0.6665\n"
     ]
    }
   ],
   "source": [
    "knn_test_prediction = knn_model.predict(X_test)\n",
    "print metrics.accuracy_score(y_test, knn_test_prediction)"
   ]
  },
  {
   "cell_type": "code",
   "execution_count": 112,
   "metadata": {
    "collapsed": false
   },
   "outputs": [],
   "source": [
    "# Classification on text\n",
    "\n",
    "np.random.seed(1234567)\n",
    "train = yelp.sample(int(len(yelp)*0.7), replace=False)"
   ]
  },
  {
   "cell_type": "code",
   "execution_count": 113,
   "metadata": {
    "collapsed": false
   },
   "outputs": [],
   "source": [
    "test = yelp[~yelp.index.isin(train.index.values)]"
   ]
  },
  {
   "cell_type": "code",
   "execution_count": 114,
   "metadata": {
    "collapsed": true
   },
   "outputs": [],
   "source": [
    "train_x = train['Review']\n",
    "train_y = train['High']\n",
    "test_x = test['Review']\n",
    "test_y = test['High']"
   ]
  },
  {
   "cell_type": "code",
   "execution_count": 115,
   "metadata": {
    "collapsed": false
   },
   "outputs": [],
   "source": [
    "vectorizer = TfidfVectorizer(min_df=2, smooth_idf=True, strip_accents='unicode', norm='l2')"
   ]
  },
  {
   "cell_type": "code",
   "execution_count": 119,
   "metadata": {
    "collapsed": true
   },
   "outputs": [],
   "source": [
    "def text_classification (v):\n",
    "    X_transform=v.fit_transform(train_x)\n",
    "    X_test=v.transform(test_x)\n",
    "    \n",
    "    nb_classifier = MultinomialNB().fit(X_transform, train_y)\n",
    "    y_nb_predicted = nb_classifier.predict(X_test)\n",
    "    \n",
    "    predict_y=Series(y_nb_predicted).reset_index()[0]\n",
    "    df=pd.DataFrame()\n",
    "    df['Predicted']=predict_y\n",
    "    df['Actual']=test_y.reset_index()['High']\n",
    "    \n",
    "    print \"Percent Correct\\n\",round((df['Predicted']==df['Actual']).mean()*100,3)\n",
    "    print \"\\nConfusion Matrix\\n\",pd.crosstab(index=df['Actual'],columns=df['Predicted'])\n",
    "    print \"\\nProportion Table\\n\", pd.crosstab(index=df['Actual'],columns=df['Predicted']).apply(lambda r: r/r.sum(), axis=1)"
   ]
  },
  {
   "cell_type": "code",
   "execution_count": 120,
   "metadata": {
    "collapsed": false
   },
   "outputs": [
    {
     "name": "stdout",
     "output_type": "stream",
     "text": [
      "Percent Correct\n",
      "72.283\n",
      "\n",
      "Confusion Matrix\n",
      "Predicted    0     1\n",
      "Actual              \n",
      "0          323  1655\n",
      "1            8  4014\n",
      "\n",
      "Proportion Table\n",
      "Predicted         0         1\n",
      "Actual                       \n",
      "0          0.163296  0.836704\n",
      "1          0.001989  0.998011\n"
     ]
    }
   ],
   "source": [
    "text_classification(vectorizer)"
   ]
  },
  {
   "cell_type": "code",
   "execution_count": null,
   "metadata": {
    "collapsed": true
   },
   "outputs": [],
   "source": []
  }
 ],
 "metadata": {
  "kernelspec": {
   "display_name": "Python 2",
   "language": "python",
   "name": "python2"
  },
  "language_info": {
   "codemirror_mode": {
    "name": "ipython",
    "version": 2
   },
   "file_extension": ".py",
   "mimetype": "text/x-python",
   "name": "python",
   "nbconvert_exporter": "python",
   "pygments_lexer": "ipython2",
   "version": "2.7.10"
  }
 },
 "nbformat": 4,
 "nbformat_minor": 0
}
