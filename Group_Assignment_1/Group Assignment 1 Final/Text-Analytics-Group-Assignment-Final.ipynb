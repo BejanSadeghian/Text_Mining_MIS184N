{
 "cells": [
  {
   "cell_type": "markdown",
   "metadata": {},
   "source": [
    "#Part A"
   ]
  },
  {
   "cell_type": "code",
   "execution_count": 52,
   "metadata": {
    "collapsed": false
   },
   "outputs": [
    {
     "name": "stdout",
     "output_type": "stream",
     "text": [
      "Populating the interactive namespace from numpy and matplotlib\n"
     ]
    },
    {
     "name": "stderr",
     "output_type": "stream",
     "text": [
      "WARNING: pylab import has clobbered these variables: ['sample', 'random', 'load', 'test', 'zipf', 'var']\n",
      "`%matplotlib` prevents importing * from pylab and numpy\n"
     ]
    }
   ],
   "source": [
    "import pandas as pd\n",
    "from pandas import Series\n",
    "import numpy as np\n",
    "%pylab inline\n",
    "import nltk\n",
    "from nltk import word_tokenize\n",
    "from nltk import pos_tag\n",
    "from nltk.corpus import stopwords\n",
    "from nltk.stem.wordnet import WordNetLemmatizer\n",
    "import matplotlib.pyplot as plt\n",
    "import re\n",
    "import math\n",
    "from collections import Counter\n",
    "from operator import itemgetter\n"
   ]
  },
  {
   "cell_type": "code",
   "execution_count": 4,
   "metadata": {
    "collapsed": false
   },
   "outputs": [],
   "source": [
    "salary_data = pd.read_csv(\"Train_rev1.csv\")"
   ]
  },
  {
   "cell_type": "code",
   "execution_count": 48,
   "metadata": {
    "collapsed": false
   },
   "outputs": [
    {
     "name": "stdout",
     "output_type": "stream",
     "text": [
      "Top 5 Parts of Speech (Question A1)\n",
      "Axes(0.125,0.125;0.775x0.775)\n"
     ]
    },
    {
     "data": {
      "text/html": [
       "<div>\n",
       "<table border=\"1\" class=\"dataframe\">\n",
       "  <thead>\n",
       "    <tr style=\"text-align: right;\">\n",
       "      <th></th>\n",
       "      <th>Description</th>\n",
       "      <th>Count</th>\n",
       "    </tr>\n",
       "  </thead>\n",
       "  <tbody>\n",
       "    <tr>\n",
       "      <th>NN</th>\n",
       "      <td>noun, common, singular or mass</td>\n",
       "      <td>1036425</td>\n",
       "    </tr>\n",
       "    <tr>\n",
       "      <th>IN</th>\n",
       "      <td>preposition or conjunction, subordinating</td>\n",
       "      <td>395710</td>\n",
       "    </tr>\n",
       "    <tr>\n",
       "      <th>NNS</th>\n",
       "      <td>noun, common, plural</td>\n",
       "      <td>294683</td>\n",
       "    </tr>\n",
       "    <tr>\n",
       "      <th>DT</th>\n",
       "      <td>determiner</td>\n",
       "      <td>283371</td>\n",
       "    </tr>\n",
       "    <tr>\n",
       "      <th>JJ</th>\n",
       "      <td>adjective or numeral, ordinal</td>\n",
       "      <td>241012</td>\n",
       "    </tr>\n",
       "  </tbody>\n",
       "</table>\n",
       "</div>"
      ],
      "text/plain": [
       "                                   Description    Count\n",
       "NN              noun, common, singular or mass  1036425\n",
       "IN   preposition or conjunction, subordinating   395710\n",
       "NNS                       noun, common, plural   294683\n",
       "DT                                  determiner   283371\n",
       "JJ               adjective or numeral, ordinal   241012"
      ]
     },
     "execution_count": 48,
     "metadata": {},
     "output_type": "execute_result"
    },
    {
     "data": {
      "image/png": "[encoded data removed]",
      "text/plain": [
       "<matplotlib.figure.Figure at 0x8b480710>"
      ]
     },
     "metadata": {},
     "output_type": "display_data"
    }
   ],
   "source": [
    "#Import data and find unique tokens\n",
    "rawdata = salary_data\n",
    "desc = rawdata['FullDescription']\n",
    "\n",
    "working_data = rawdata[0:15000]\n",
    "wordslist = []\n",
    "\n",
    "\n",
    "for index, row in enumerate(working_data['FullDescription']):\n",
    "    string = row.decode('utf-8')\n",
    "    temp = word_tokenize(string)\n",
    "    for i in temp:\n",
    "        wordslist.append(i)\n",
    "\n",
    "wordset = list(set(wordslist))\n",
    "\n",
    "#Lowercase the document\n",
    "stemmed_tokens = [t.lower() for t in wordset if t.isalpha()]\n",
    "lower_wordlist = [t.lower() for t in wordslist if t.isalpha()]\n",
    "wordset = list(set(stemmed_tokens))\n",
    "\n",
    "counts = Counter(lower_wordlist) #Returns a dict of words and their frequency in the corpus\n",
    "\n",
    "#Parts of Speach\n",
    "pos_tokens = nltk.pos_tag(wordset)\n",
    "\n",
    "compiled_pos_freq = [(word, tag, counts[word]) for (word, tag) in pos_tokens]\n",
    "\n",
    "#Create a frequency distribution\n",
    "#list_of_tags = []\n",
    "#for (word, tag, count) in compiled_pos_freq:\n",
    "#    for i in range(0,count):\n",
    "#        list_of_tags.append() #Compiled into the list comprension\n",
    "tokens_fd = nltk.FreqDist(tag for (word, tag, count) in compiled_pos_freq for i in range(0,count)) #Cross check later to see if amount is correct\n",
    "\n",
    "#tokens_fd1 = nltk.FreqDist(tag for (word, tag) in pos_tokens)\n",
    "\n",
    "#Answers for A1\n",
    "sorted_pos = sorted(tokens_fd.items(), key=itemgetter(1), reverse = True)\n",
    "print 'Top 5 Parts of Speech (Question A1)'\n",
    "\n",
    "xvar = [x for (x, y) in sorted_pos]\n",
    "series_plot = pd.Series([y for (x, y) in sorted_pos], index=xvar)\n",
    "print(series_plot[0:5].plot(kind='bar'))\n",
    "\n",
    "\n",
    "\n",
    "\n",
    "from nltk.data import load\n",
    "labels=load('help/tagsets/upenn_tagset.pickle')\n",
    "dictionary=pd.Series({key: labels[key][0] for key in labels.keys()})\n",
    "pd.concat([dictionary,series_plot[0:5]],axis=1,join=\"inner\").rename(columns={0:'Description',1:'Count'})"
   ]
  },
  {
   "cell_type": "code",
   "execution_count": 50,
   "metadata": {
    "collapsed": false
   },
   "outputs": [
    {
     "data": {
      "image/png": "[encoded data removed]",
      "text/plain": [
       "<matplotlib.figure.Figure at 0x96d73ba8>"
      ]
     },
     "metadata": {},
     "output_type": "display_data"
    },
    {
     "name": "stdout",
     "output_type": "stream",
     "text": [
      "Does this corpus support Zipf's Law? (Question A2)\n",
      "Zipf's law does hold true here because there is an inverse relationship between rank and token frequency, however comparing our predictured Zipfs value against our actual value showed some seperation likely due to stop words\n"
     ]
    }
   ],
   "source": [
    "#A2 requires calculation of a series of values for zipfs law, creating a two varaible dataframe\n",
    "dict_wordcounts = Counter(lower_wordlist)\n",
    "list_wordcounts = dict_wordcounts.most_common(100)\n",
    "\n",
    "index = []\n",
    "for i in range(1,len(list_wordcounts)+1):\n",
    "    index.append(i)\n",
    "top100 = pd.Series([b for (a, b) in list_wordcounts]) #Get the frequencies for the top 100 frequencies\n",
    "top100words = pd.Series([a for (a, b) in list_wordcounts])  #The top freq words\n",
    "#top100 = pd.Series([math.log(b) for (a, b) in sorted][0:101]) #Get the frequencies for the top 100 frequencies\n",
    "\n",
    "zipf = []\n",
    "for i,value in enumerate(top100):\n",
    "    zipf.append((100000.0/(i+1))) ##Scaling the Zipf's calculation due to difference in magnitude Unsure how to calculate Zipfs Law Prediction\n",
    "index = pd.Series(index)\n",
    "zipf = pd.Series(zipf)\n",
    "\n",
    "zipf = pd.concat([index,zipf, top100], axis=1)\n",
    "\n",
    "plt.plot(zipf[[0]], zipf[[1]], 'b-', label = 'Zipf Pred.')\n",
    "plt.plot(zipf[[0]], zipf[[2]], 'r-', label = 'Actual')\n",
    "plt.yscale('log')\n",
    "plt.xlabel('Rank')\n",
    "plt.ylabel('Token Frequency')\n",
    "plt.xscale('log')\n",
    "plt.legend()\n",
    "plt.show()\n",
    "\n",
    "print 'Does this corpus support Zipf\\'s Law? (Question A2)'\n",
    "print 'Zipf\\'s law does hold true here because there is an inverse relationship between rank and token frequency, however comparing our predictured Zipfs value against our actual value showed some seperation likely due to stop words'"
   ]
  },
  {
   "cell_type": "code",
   "execution_count": 53,
   "metadata": {
    "collapsed": false
   },
   "outputs": [
    {
     "name": "stdout",
     "output_type": "stream",
     "text": [
      "Top 10 Words without stop words and lemmatized, what are their frequencies? (Question A3)\n",
      "experience    24909\n",
      "work          18196\n",
      "role          16962\n",
      "team          16271\n",
      "client        16129\n",
      "care          14231\n",
      "working       13996\n",
      "service       13729\n",
      "skill         13173\n",
      "within        12795\n",
      "dtype: int64\n",
      "Axes(0.125,0.125;0.775x0.775)\n"
     ]
    },
    {
     "data": {
      "image/png": "[encoded data removed]",
      "text/plain": [
       "<matplotlib.figure.Figure at 0x3e31198>"
      ]
     },
     "metadata": {},
     "output_type": "display_data"
    }
   ],
   "source": [
    "#For Part A3 we must remove stop words and lemmatize the corpus to find the most common parts of speech\n",
    "#Remove Stop Words\n",
    "\n",
    "#Lemmatize and remove stop words\n",
    "nostop = [word for word in lower_wordlist if word not in stopwords.words('english')]\n",
    "lmtzr = WordNetLemmatizer()\n",
    "nostoplmtzed = [lmtzr.lemmatize(word) for word in nostop]\n",
    "print('Top 10 Words without stop words and lemmatized, what are their frequencies? (Question A3)')\n",
    "print(pd.Series(nostoplmtzed).value_counts()[:10])\n",
    "print(pd.Series(nostoplmtzed).value_counts()[:10].plot(kind='bar'))"
   ]
  },
  {
   "cell_type": "markdown",
   "metadata": {},
   "source": [
    "#Part B"
   ]
  },
  {
   "cell_type": "code",
   "execution_count": 54,
   "metadata": {
    "collapsed": false
   },
   "outputs": [],
   "source": [
    "import random\n",
    "np.random.seed(1234567)\n",
    "sample = salary_data.sample(15000, replace=False).copy()\n",
    "salaries = sample['SalaryNormalized']\n",
    "threshold = np.percentile(salaries, 75)"
   ]
  },
  {
   "cell_type": "code",
   "execution_count": 55,
   "metadata": {
    "collapsed": false
   },
   "outputs": [],
   "source": [
    "sample['High'] = 0.0\n",
    "high_mask = sample['SalaryNormalized'] >= threshold\n",
    "sample.ix[high_mask,'High'] = 1"
   ]
  },
  {
   "cell_type": "code",
   "execution_count": 56,
   "metadata": {
    "collapsed": false
   },
   "outputs": [],
   "source": [
    "train = sample.sample(0.6*len(sample), replace=False).copy()\n",
    "test = sample[~sample.index.isin(train.index.values)]"
   ]
  },
  {
   "cell_type": "code",
   "execution_count": 57,
   "metadata": {
    "collapsed": false
   },
   "outputs": [],
   "source": [
    "from sklearn.naive_bayes import MultinomialNB\n",
    "from sklearn.feature_extraction.text import TfidfVectorizer\n",
    "#from sklearn import metrics\n",
    "from operator import itemgetter\n",
    "#from sklearn.metrics import classification_report\n"
   ]
  },
  {
   "cell_type": "code",
   "execution_count": 58,
   "metadata": {
    "collapsed": false
   },
   "outputs": [],
   "source": [
    "train_x = train['FullDescription']\n",
    "train_y = train['High']\n",
    "\n",
    "test_x = test['FullDescription']\n",
    "test_y = test['High']"
   ]
  },
  {
   "cell_type": "code",
   "execution_count": 59,
   "metadata": {
    "collapsed": false
   },
   "outputs": [],
   "source": [
    "#wrapper\n",
    "vectorizer = TfidfVectorizer(min_df=0, smooth_idf=True, strip_accents='unicode', norm='l2')"
   ]
  },
  {
   "cell_type": "code",
   "execution_count": 60,
   "metadata": {
    "collapsed": false
   },
   "outputs": [],
   "source": [
    "def tester (v):\n",
    "    X_transform=v.fit_transform(train_x)\n",
    "    X_test=v.transform(test_x)\n",
    "    \n",
    "    nb_classifier = MultinomialNB().fit(X_transform, train_y)\n",
    "    y_nb_predicted = nb_classifier.predict(X_test)\n",
    "    \n",
    "    predict_y=Series(y_nb_predicted).reset_index()[0]\n",
    "    df=pd.DataFrame()\n",
    "    df['Predicted']=predict_y\n",
    "    df['Test']=test_y.reset_index()['High']\n",
    "    \n",
    "    print \"Percent Correct\\n\",round((df['Predicted']==df['Test']).mean()*100,3)\n",
    "    print \"\\nConfusion Matrix\\n\",pd.crosstab(index=df['Test'],columns=df['Predicted'])\n",
    "    print \"\\nProportion Table\\n\", pd.crosstab(index=df['Test'],columns=df['Predicted']).apply(lambda r: r/r.sum(), axis=1)"
   ]
  },
  {
   "cell_type": "code",
   "execution_count": 61,
   "metadata": {
    "collapsed": false
   },
   "outputs": [
    {
     "name": "stdout",
     "output_type": "stream",
     "text": [
      "Percent Correct\n",
      "75.017\n",
      "\n",
      "Confusion Matrix\n",
      "Predicted     0   1\n",
      "Test               \n",
      "0          4482   1\n",
      "1          1498  19\n",
      "\n",
      "Proportion Table\n",
      "Predicted         0         1\n",
      "Test                         \n",
      "0          0.999777  0.000223\n",
      "1          0.987475  0.012525\n"
     ]
    }
   ],
   "source": [
    "tester(vectorizer)"
   ]
  },
  {
   "cell_type": "markdown",
   "metadata": {},
   "source": [
    "##Part B 1 with equal sized classes"
   ]
  },
  {
   "cell_type": "code",
   "execution_count": 62,
   "metadata": {
    "collapsed": false
   },
   "outputs": [],
   "source": [
    "salary_data['High']=0.0\n",
    "high_mask = salary_data['SalaryNormalized'] >= threshold\n",
    "salary_data.ix[high_mask,'High'] = 1.0"
   ]
  },
  {
   "cell_type": "code",
   "execution_count": 63,
   "metadata": {
    "collapsed": false
   },
   "outputs": [],
   "source": [
    "highs=salary_data[salary_data['High']==1]\n",
    "lows=salary_data[salary_data['High']!=1]"
   ]
  },
  {
   "cell_type": "code",
   "execution_count": 64,
   "metadata": {
    "collapsed": false
   },
   "outputs": [],
   "source": [
    "samples_high=highs.sample(7500, replace=False).copy()\n",
    "samples_lows=lows.sample(7500, replace=False).copy()\n",
    "samples=samples_high.append(samples_lows, ignore_index=False, verify_integrity=True)"
   ]
  },
  {
   "cell_type": "code",
   "execution_count": 65,
   "metadata": {
    "collapsed": false
   },
   "outputs": [],
   "source": [
    "train = samples.sample(0.6*len(samples), replace=False).copy()\n",
    "test = samples[~samples.index.isin(train.index.values)]"
   ]
  },
  {
   "cell_type": "code",
   "execution_count": 66,
   "metadata": {
    "collapsed": false
   },
   "outputs": [],
   "source": [
    "train_x = train['FullDescription']\n",
    "train_y = train['High']\n",
    "test_x = test['FullDescription']\n",
    "test_y = test['High']"
   ]
  },
  {
   "cell_type": "code",
   "execution_count": 67,
   "metadata": {
    "collapsed": false
   },
   "outputs": [
    {
     "name": "stdout",
     "output_type": "stream",
     "text": [
      "Percent Correct\n",
      "80.15\n",
      "\n",
      "Confusion Matrix\n",
      "Predicted     0     1\n",
      "Test                 \n",
      "0          2240   741\n",
      "1           450  2569\n",
      "\n",
      "Proportion Table\n",
      "Predicted         0         1\n",
      "Test                         \n",
      "0          0.751426  0.248574\n",
      "1          0.149056  0.850944\n"
     ]
    }
   ],
   "source": [
    "tester(vectorizer)"
   ]
  },
  {
   "cell_type": "markdown",
   "metadata": {},
   "source": [
    "#B2"
   ]
  },
  {
   "cell_type": "code",
   "execution_count": 68,
   "metadata": {
    "collapsed": true
   },
   "outputs": [],
   "source": [
    "#following scikit documentation to lemmatize\n",
    "class LemmaTokenizer(object):\n",
    "    def __init__(self):\n",
    "        self.wnl = WordNetLemmatizer()\n",
    "    def __call__(self, doc):\n",
    "        return [self.wnl.lemmatize(t) for t in word_tokenize(doc)]"
   ]
  },
  {
   "cell_type": "code",
   "execution_count": 69,
   "metadata": {
    "collapsed": true
   },
   "outputs": [],
   "source": [
    "lemma_vectorizer = TfidfVectorizer(min_df=0, smooth_idf=True, strip_accents='unicode', norm='l2', tokenizer=LemmaTokenizer())"
   ]
  },
  {
   "cell_type": "code",
   "execution_count": 70,
   "metadata": {
    "collapsed": false
   },
   "outputs": [
    {
     "name": "stdout",
     "output_type": "stream",
     "text": [
      "Percent Correct\n",
      "79.733\n",
      "\n",
      "Confusion Matrix\n",
      "Predicted     0     1\n",
      "Test                 \n",
      "0          2233   748\n",
      "1           468  2551\n",
      "\n",
      "Proportion Table\n",
      "Predicted         0         1\n",
      "Test                         \n",
      "0          0.749077  0.250923\n",
      "1          0.155018  0.844982\n"
     ]
    }
   ],
   "source": [
    "tester(lemma_vectorizer)"
   ]
  },
  {
   "cell_type": "markdown",
   "metadata": {},
   "source": [
    "_Lemmatization is just slightly worse._"
   ]
  },
  {
   "cell_type": "markdown",
   "metadata": {},
   "source": [
    "#B3"
   ]
  },
  {
   "cell_type": "code",
   "execution_count": 71,
   "metadata": {
    "collapsed": true
   },
   "outputs": [],
   "source": [
    "stop_vectorizer = \\\n",
    "TfidfVectorizer(min_df=0, smooth_idf=True, strip_accents='unicode',\\\n",
    "                norm='l2', stop_words=\"english\")"
   ]
  },
  {
   "cell_type": "code",
   "execution_count": 72,
   "metadata": {
    "collapsed": false
   },
   "outputs": [
    {
     "name": "stdout",
     "output_type": "stream",
     "text": [
      "Percent Correct\n",
      "80.067\n",
      "\n",
      "Confusion Matrix\n",
      "Predicted     0     1\n",
      "Test                 \n",
      "0          2212   769\n",
      "1           427  2592\n",
      "\n",
      "Proportion Table\n",
      "Predicted         0         1\n",
      "Test                         \n",
      "0          0.742033  0.257967\n",
      "1          0.141438  0.858562\n"
     ]
    }
   ],
   "source": [
    "tester(stop_vectorizer)"
   ]
  },
  {
   "cell_type": "markdown",
   "metadata": {},
   "source": [
    "##Top Ten Words (using Coef)"
   ]
  },
  {
   "cell_type": "code",
   "execution_count": 73,
   "metadata": {
    "collapsed": false
   },
   "outputs": [
    {
     "name": "stdout",
     "output_type": "stream",
     "text": [
      "Top Ten Words indicative of a low salary\n",
      "care service business skills working team role work experience sales\n",
      "\n",
      "Top Ten words indicative of a high salary\n",
      "design client development team manager role project management business experience\n"
     ]
    }
   ],
   "source": [
    "#This second set is used for part B3-2\n",
    "salary_data['Low']=0.0\n",
    "low_mask = salary_data['SalaryNormalized'] <= threshold\n",
    "salary_data.ix[low_mask,'Low'] = 1.0\n",
    "\n",
    "highs=salary_data[salary_data['High']==1]\n",
    "lows=salary_data[salary_data['High']!=1]\n",
    "\n",
    "\n",
    "train_xB3 = train['FullDescription']\n",
    "train_yB3 = train['Low']\n",
    "test_xB3 = test['FullDescription']\n",
    "test_yB3 = test['Low']\n",
    "\n",
    "X_transformB3 =stop_vectorizer.fit_transform(train_xB3)\n",
    "X_testB3 =stop_vectorizer.transform(test_xB3)\n",
    "\n",
    "nb_classifierB3 = MultinomialNB().fit(X_transformB3, train_yB3)\n",
    "y_nb_predictedB3 = nb_classifierB3.predict(X_testB3)\n",
    "\n",
    "N = 10\n",
    "vocabulary = np.array([t for t, i in sorted(stop_vectorizer.vocabulary_.iteritems(), key=itemgetter(1))])\n",
    "print('Top Ten Words indicative of a low salary')\n",
    "topNlows = np.argsort(nb_classifierB3.coef_[0])[-10:]\n",
    "print(\" \".join(vocabulary[topNlows]))\n",
    "\n",
    "\n",
    "\n",
    "#High Salaries\n",
    "train_xB3 = train['FullDescription']\n",
    "train_yB3 = train['High']\n",
    "test_xB3 = test['FullDescription']\n",
    "test_yB3 = test['High']\n",
    "\n",
    "X_transformB3 =stop_vectorizer.fit_transform(train_xB3)\n",
    "X_testB3 =stop_vectorizer.transform(test_xB3)\n",
    "\n",
    "nb_classifierB3 = MultinomialNB().fit(X_transformB3, train_yB3)\n",
    "y_nb_predictedB3 = nb_classifierB3.predict(X_testB3)\n",
    "\n",
    "N = 10\n",
    "vocabulary = np.array([t for t, i in sorted(stop_vectorizer.vocabulary_.iteritems(), key=itemgetter(1))])\n",
    "print('\\nTop Ten words indicative of a high salary')\n",
    "bottomNlows = np.argsort(nb_classifierB3.coef_[0])[-10:]\n",
    "print(\" \".join(vocabulary[bottomNlows]))\n"
   ]
  },
  {
   "cell_type": "markdown",
   "metadata": {},
   "source": [
    "##Top Ten Words (Log Probability Ratio)"
   ]
  },
  {
   "cell_type": "code",
   "execution_count": 74,
   "metadata": {
    "collapsed": true
   },
   "outputs": [],
   "source": [
    "#Creating a vectorizer and model for part B3-2\n",
    "stop_vectorizer = \\\n",
    "TfidfVectorizer(min_df=0, smooth_idf=True, strip_accents='unicode',\\\n",
    "                norm='l2', stop_words=\"english\")\n",
    "stop_train_x = stop_vectorizer.fit_transform(train_x)\n",
    "stop_test_x = stop_vectorizer.transform(test_x)\n",
    "stop_nb_classifier = MultinomialNB().fit(stop_train_x, train_y)"
   ]
  },
  {
   "cell_type": "code",
   "execution_count": 75,
   "metadata": {
    "collapsed": false
   },
   "outputs": [
    {
     "name": "stdout",
     "output_type": "stream",
     "text": [
      "Words most indicative of a higher salary:\n",
      "architect derivatives allegis treasury transformation subsea architecture lawyer hibernate ee\n",
      "\n",
      "Words most indicative of a lower salary: \n",
      "cnc teachers chef adecco assistant asbestos cleaning sous hgv partie\n"
     ]
    }
   ],
   "source": [
    "import math\n",
    "class0log = stop_nb_classifier.feature_log_prob_[0]\n",
    "class1log = stop_nb_classifier.feature_log_prob_[1]\n",
    "class1log_exp = []\n",
    "for i in class1log:\n",
    "    class1log_exp.append(math.exp(i))\n",
    "class0log_exp = []\n",
    "for j in class0log:\n",
    "    class0log_exp.append(math.exp(j))\n",
    "ratio = []\n",
    "for index, var in enumerate(class1log_exp):\n",
    "    ratio.append(class0log_exp[index]/var)\n",
    "\n",
    "bottomN1 = np.argsort(ratio)[:10]\n",
    "print('Words most indicative of a higher salary:')\n",
    "print(\" \".join(vocabulary[bottomN1]))\n",
    "topN1 = np.argsort(ratio)[-10:]\n",
    "print('\\nWords most indicative of a lower salary: ')\n",
    "print(\" \".join(vocabulary[topN1]))"
   ]
  },
  {
   "cell_type": "markdown",
   "metadata": {},
   "source": [
    "#B4"
   ]
  },
  {
   "cell_type": "code",
   "execution_count": 76,
   "metadata": {
    "collapsed": false
   },
   "outputs": [],
   "source": [
    "class posBigram(object):\n",
    "    def __init__(self):\n",
    "        pass\n",
    "    def __call__(self,doc):\n",
    "      return nltk.Text(nltk.bigrams([i[1] for i in nltk.pos_tag(nltk.word_tokenize(doc))]))"
   ]
  },
  {
   "cell_type": "code",
   "execution_count": 77,
   "metadata": {
    "collapsed": true
   },
   "outputs": [],
   "source": [
    "pos_bigram_vectorizer = TfidfVectorizer(min_df=0, smooth_idf=True, strip_accents='unicode', norm='l2', tokenizer=posBigram())"
   ]
  },
  {
   "cell_type": "code",
   "execution_count": 78,
   "metadata": {
    "collapsed": true
   },
   "outputs": [],
   "source": [
    "pos_bigram_train_x = pos_bigram_vectorizer.fit_transform(train_x) #defines dictionary\n",
    "pos_bigram_nb_classifier = MultinomialNB().fit(pos_bigram_train_x, train_y)"
   ]
  },
  {
   "cell_type": "code",
   "execution_count": 79,
   "metadata": {
    "collapsed": true
   },
   "outputs": [],
   "source": [
    "pos_bigram_test_x = pos_bigram_vectorizer.transform(test_x)\n",
    "pos_bigram_y_nb_predicted = pos_bigram_nb_classifier.predict(pos_bigram_test_x)"
   ]
  },
  {
   "cell_type": "code",
   "execution_count": 80,
   "metadata": {
    "collapsed": false
   },
   "outputs": [
    {
     "data": {
      "text/html": [
       "<div>\n",
       "<table border=\"1\" class=\"dataframe\">\n",
       "  <thead>\n",
       "    <tr style=\"text-align: right;\">\n",
       "      <th>Predicted</th>\n",
       "      <th>0.0</th>\n",
       "      <th>1.0</th>\n",
       "    </tr>\n",
       "    <tr>\n",
       "      <th>Actual</th>\n",
       "      <th></th>\n",
       "      <th></th>\n",
       "    </tr>\n",
       "  </thead>\n",
       "  <tbody>\n",
       "    <tr>\n",
       "      <th>0</th>\n",
       "      <td>1782</td>\n",
       "      <td>1199</td>\n",
       "    </tr>\n",
       "    <tr>\n",
       "      <th>1</th>\n",
       "      <td>987</td>\n",
       "      <td>2032</td>\n",
       "    </tr>\n",
       "  </tbody>\n",
       "</table>\n",
       "</div>"
      ],
      "text/plain": [
       "Predicted     0     1\n",
       "Actual               \n",
       "0          1782  1199\n",
       "1           987  2032"
      ]
     },
     "execution_count": 80,
     "metadata": {},
     "output_type": "execute_result"
    }
   ],
   "source": [
    "pos_bigram_predict_y = Series(pos_bigram_y_nb_predicted).reset_index()\n",
    "pos_bigram_predict_y = pos_bigram_predict_y[0]\n",
    "pos_bigram_df = pd.DataFrame()\n",
    "pos_bigram_df['Predicted'] = pos_bigram_predict_y\n",
    "pos_bigram_df['Actual'] = test_y.reset_index()['High']\n",
    "pd.crosstab(index=pos_bigram_df['Actual'], columns=pos_bigram_df['Predicted'])"
   ]
  },
  {
   "cell_type": "code",
   "execution_count": 81,
   "metadata": {
    "collapsed": false
   },
   "outputs": [
    {
     "data": {
      "text/plain": [
       "0.63566666666666671"
      ]
     },
     "execution_count": 81,
     "metadata": {},
     "output_type": "execute_result"
    }
   ],
   "source": [
    "(pos_bigram_df['Predicted'] == pos_bigram_df['Actual']).mean()"
   ]
  },
  {
   "cell_type": "code",
   "execution_count": null,
   "metadata": {
    "collapsed": true
   },
   "outputs": [],
   "source": []
  }
 ],
 "metadata": {
  "kernelspec": {
   "display_name": "Python 2",
   "language": "python",
   "name": "python2"
  },
  "language_info": {
   "codemirror_mode": {
    "name": "ipython",
    "version": 2
   },
   "file_extension": ".py",
   "mimetype": "text/x-python",
   "name": "python",
   "nbconvert_exporter": "python",
   "pygments_lexer": "ipython2",
   "version": "2.7.10"
  },
  "notify_time": "5"
 },
 "nbformat": 4,
 "nbformat_minor": 0
}
